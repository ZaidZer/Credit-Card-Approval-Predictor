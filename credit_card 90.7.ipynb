{
 "cells": [
  {
   "cell_type": "code",
   "execution_count": 1,
   "id": "4ceecb03",
   "metadata": {},
   "outputs": [],
   "source": [
    "import pandas as pd\n",
    "import numpy as np\n",
    "import scipy as sp\n",
    "import seaborn as sns\n",
    "import numpy.random as npr\n",
    "import plotly as py\n",
    "import plotly.offline as pyo\n",
    "import matplotlib.pyplot as plt\n",
    "import plotly.graph_objs as go\n",
    "import plotly.express as px\n",
    "from sklearn.preprocessing import OneHotEncoder, OrdinalEncoder\n",
    "from sklearn.impute import SimpleImputer\n",
    "from sklearn.compose import make_column_selector, ColumnTransformer\n",
    "from sklearn.pipeline import Pipeline, make_pipeline\n",
    "from sklearn.ensemble import RandomForestClassifier\n",
    "from sklearn.linear_model import LogisticRegression\n",
    "from sklearn.model_selection import cross_val_predict, StratifiedKFold, train_test_split, GridSearchCV\n",
    "import requests"
   ]
  },
  {
   "cell_type": "code",
   "execution_count": null,
   "id": "37bf962e",
   "metadata": {},
   "outputs": [
    {
     "data": {
      "text/html": [
       "<div>\n",
       "<style scoped>\n",
       "    .dataframe tbody tr th:only-of-type {\n",
       "        vertical-align: middle;\n",
       "    }\n",
       "\n",
       "    .dataframe tbody tr th {\n",
       "        vertical-align: top;\n",
       "    }\n",
       "\n",
       "    .dataframe thead th {\n",
       "        text-align: right;\n",
       "    }\n",
       "</style>\n",
       "<table border=\"1\" class=\"dataframe\">\n",
       "  <thead>\n",
       "    <tr style=\"text-align: right;\">\n",
       "      <th></th>\n",
       "      <th>Ind_ID</th>\n",
       "      <th>label</th>\n",
       "    </tr>\n",
       "  </thead>\n",
       "  <tbody>\n",
       "    <tr>\n",
       "      <th>0</th>\n",
       "      <td>5008827</td>\n",
       "      <td>1</td>\n",
       "    </tr>\n",
       "    <tr>\n",
       "      <th>1</th>\n",
       "      <td>5009744</td>\n",
       "      <td>1</td>\n",
       "    </tr>\n",
       "    <tr>\n",
       "      <th>2</th>\n",
       "      <td>5009746</td>\n",
       "      <td>1</td>\n",
       "    </tr>\n",
       "    <tr>\n",
       "      <th>3</th>\n",
       "      <td>5009749</td>\n",
       "      <td>1</td>\n",
       "    </tr>\n",
       "    <tr>\n",
       "      <th>4</th>\n",
       "      <td>5009752</td>\n",
       "      <td>1</td>\n",
       "    </tr>\n",
       "  </tbody>\n",
       "</table>\n",
       "</div>"
      ],
      "text/plain": [
       "    Ind_ID  label\n",
       "0  5008827      1\n",
       "1  5009744      1\n",
       "2  5009746      1\n",
       "3  5009749      1\n",
       "4  5009752      1"
      ]
     },
     "execution_count": 2,
     "metadata": {},
     "output_type": "execute_result"
    }
   ],
   "source": [
    "#datasets inladen\n",
    "\n",
    "df_cred = pd.read_csv(r\"C:\\Users\\Zaidz\\Downloads\\archive (7)\\Credit_card.csv\")\n",
    "df_cred_lab = pd.read_csv(r\"C:\\Users\\Zaidz\\Downloads\\archive (7)\\Credit_card_label.csv\")\n",
    "\n",
    "df_cred_lab.head()"
   ]
  },
  {
   "cell_type": "code",
   "execution_count": null,
   "id": "c2abae44",
   "metadata": {},
   "outputs": [
    {
     "data": {
      "text/html": [
       "<div>\n",
       "<style scoped>\n",
       "    .dataframe tbody tr th:only-of-type {\n",
       "        vertical-align: middle;\n",
       "    }\n",
       "\n",
       "    .dataframe tbody tr th {\n",
       "        vertical-align: top;\n",
       "    }\n",
       "\n",
       "    .dataframe thead th {\n",
       "        text-align: right;\n",
       "    }\n",
       "</style>\n",
       "<table border=\"1\" class=\"dataframe\">\n",
       "  <thead>\n",
       "    <tr style=\"text-align: right;\">\n",
       "      <th></th>\n",
       "      <th>Ind_ID</th>\n",
       "      <th>GENDER</th>\n",
       "      <th>Car_Owner</th>\n",
       "      <th>Propert_Owner</th>\n",
       "      <th>CHILDREN</th>\n",
       "      <th>Annual_income</th>\n",
       "      <th>Type_Income</th>\n",
       "      <th>EDUCATION</th>\n",
       "      <th>Marital_status</th>\n",
       "      <th>Housing_type</th>\n",
       "      <th>Birthday_count</th>\n",
       "      <th>Employed_days</th>\n",
       "      <th>Mobile_phone</th>\n",
       "      <th>Work_Phone</th>\n",
       "      <th>Phone</th>\n",
       "      <th>EMAIL_ID</th>\n",
       "      <th>Type_Occupation</th>\n",
       "      <th>Family_Members</th>\n",
       "      <th>label</th>\n",
       "    </tr>\n",
       "  </thead>\n",
       "  <tbody>\n",
       "    <tr>\n",
       "      <th>0</th>\n",
       "      <td>5008827</td>\n",
       "      <td>M</td>\n",
       "      <td>Y</td>\n",
       "      <td>Y</td>\n",
       "      <td>0</td>\n",
       "      <td>180000.0</td>\n",
       "      <td>Pensioner</td>\n",
       "      <td>Higher education</td>\n",
       "      <td>Married</td>\n",
       "      <td>House / apartment</td>\n",
       "      <td>-18772.0</td>\n",
       "      <td>365243</td>\n",
       "      <td>1</td>\n",
       "      <td>0</td>\n",
       "      <td>0</td>\n",
       "      <td>0</td>\n",
       "      <td>NaN</td>\n",
       "      <td>2</td>\n",
       "      <td>1</td>\n",
       "    </tr>\n",
       "    <tr>\n",
       "      <th>1</th>\n",
       "      <td>5009744</td>\n",
       "      <td>F</td>\n",
       "      <td>Y</td>\n",
       "      <td>N</td>\n",
       "      <td>0</td>\n",
       "      <td>315000.0</td>\n",
       "      <td>Commercial associate</td>\n",
       "      <td>Higher education</td>\n",
       "      <td>Married</td>\n",
       "      <td>House / apartment</td>\n",
       "      <td>-13557.0</td>\n",
       "      <td>-586</td>\n",
       "      <td>1</td>\n",
       "      <td>1</td>\n",
       "      <td>1</td>\n",
       "      <td>0</td>\n",
       "      <td>NaN</td>\n",
       "      <td>2</td>\n",
       "      <td>1</td>\n",
       "    </tr>\n",
       "    <tr>\n",
       "      <th>2</th>\n",
       "      <td>5009746</td>\n",
       "      <td>F</td>\n",
       "      <td>Y</td>\n",
       "      <td>N</td>\n",
       "      <td>0</td>\n",
       "      <td>315000.0</td>\n",
       "      <td>Commercial associate</td>\n",
       "      <td>Higher education</td>\n",
       "      <td>Married</td>\n",
       "      <td>House / apartment</td>\n",
       "      <td>NaN</td>\n",
       "      <td>-586</td>\n",
       "      <td>1</td>\n",
       "      <td>1</td>\n",
       "      <td>1</td>\n",
       "      <td>0</td>\n",
       "      <td>NaN</td>\n",
       "      <td>2</td>\n",
       "      <td>1</td>\n",
       "    </tr>\n",
       "    <tr>\n",
       "      <th>3</th>\n",
       "      <td>5009749</td>\n",
       "      <td>F</td>\n",
       "      <td>Y</td>\n",
       "      <td>N</td>\n",
       "      <td>0</td>\n",
       "      <td>NaN</td>\n",
       "      <td>Commercial associate</td>\n",
       "      <td>Higher education</td>\n",
       "      <td>Married</td>\n",
       "      <td>House / apartment</td>\n",
       "      <td>-13557.0</td>\n",
       "      <td>-586</td>\n",
       "      <td>1</td>\n",
       "      <td>1</td>\n",
       "      <td>1</td>\n",
       "      <td>0</td>\n",
       "      <td>NaN</td>\n",
       "      <td>2</td>\n",
       "      <td>1</td>\n",
       "    </tr>\n",
       "    <tr>\n",
       "      <th>4</th>\n",
       "      <td>5009752</td>\n",
       "      <td>F</td>\n",
       "      <td>Y</td>\n",
       "      <td>N</td>\n",
       "      <td>0</td>\n",
       "      <td>315000.0</td>\n",
       "      <td>Commercial associate</td>\n",
       "      <td>Higher education</td>\n",
       "      <td>Married</td>\n",
       "      <td>House / apartment</td>\n",
       "      <td>-13557.0</td>\n",
       "      <td>-586</td>\n",
       "      <td>1</td>\n",
       "      <td>1</td>\n",
       "      <td>1</td>\n",
       "      <td>0</td>\n",
       "      <td>NaN</td>\n",
       "      <td>2</td>\n",
       "      <td>1</td>\n",
       "    </tr>\n",
       "    <tr>\n",
       "      <th>...</th>\n",
       "      <td>...</td>\n",
       "      <td>...</td>\n",
       "      <td>...</td>\n",
       "      <td>...</td>\n",
       "      <td>...</td>\n",
       "      <td>...</td>\n",
       "      <td>...</td>\n",
       "      <td>...</td>\n",
       "      <td>...</td>\n",
       "      <td>...</td>\n",
       "      <td>...</td>\n",
       "      <td>...</td>\n",
       "      <td>...</td>\n",
       "      <td>...</td>\n",
       "      <td>...</td>\n",
       "      <td>...</td>\n",
       "      <td>...</td>\n",
       "      <td>...</td>\n",
       "      <td>...</td>\n",
       "    </tr>\n",
       "    <tr>\n",
       "      <th>1543</th>\n",
       "      <td>5028645</td>\n",
       "      <td>F</td>\n",
       "      <td>N</td>\n",
       "      <td>Y</td>\n",
       "      <td>0</td>\n",
       "      <td>NaN</td>\n",
       "      <td>Commercial associate</td>\n",
       "      <td>Higher education</td>\n",
       "      <td>Married</td>\n",
       "      <td>House / apartment</td>\n",
       "      <td>-11957.0</td>\n",
       "      <td>-2182</td>\n",
       "      <td>1</td>\n",
       "      <td>0</td>\n",
       "      <td>0</td>\n",
       "      <td>0</td>\n",
       "      <td>Managers</td>\n",
       "      <td>2</td>\n",
       "      <td>0</td>\n",
       "    </tr>\n",
       "    <tr>\n",
       "      <th>1544</th>\n",
       "      <td>5023655</td>\n",
       "      <td>F</td>\n",
       "      <td>N</td>\n",
       "      <td>N</td>\n",
       "      <td>0</td>\n",
       "      <td>225000.0</td>\n",
       "      <td>Commercial associate</td>\n",
       "      <td>Incomplete higher</td>\n",
       "      <td>Single / not married</td>\n",
       "      <td>House / apartment</td>\n",
       "      <td>-10229.0</td>\n",
       "      <td>-1209</td>\n",
       "      <td>1</td>\n",
       "      <td>0</td>\n",
       "      <td>0</td>\n",
       "      <td>0</td>\n",
       "      <td>Accountants</td>\n",
       "      <td>1</td>\n",
       "      <td>0</td>\n",
       "    </tr>\n",
       "    <tr>\n",
       "      <th>1545</th>\n",
       "      <td>5115992</td>\n",
       "      <td>M</td>\n",
       "      <td>Y</td>\n",
       "      <td>Y</td>\n",
       "      <td>2</td>\n",
       "      <td>180000.0</td>\n",
       "      <td>Working</td>\n",
       "      <td>Higher education</td>\n",
       "      <td>Married</td>\n",
       "      <td>House / apartment</td>\n",
       "      <td>-13174.0</td>\n",
       "      <td>-2477</td>\n",
       "      <td>1</td>\n",
       "      <td>0</td>\n",
       "      <td>0</td>\n",
       "      <td>0</td>\n",
       "      <td>Managers</td>\n",
       "      <td>4</td>\n",
       "      <td>0</td>\n",
       "    </tr>\n",
       "    <tr>\n",
       "      <th>1546</th>\n",
       "      <td>5118219</td>\n",
       "      <td>M</td>\n",
       "      <td>Y</td>\n",
       "      <td>N</td>\n",
       "      <td>0</td>\n",
       "      <td>270000.0</td>\n",
       "      <td>Working</td>\n",
       "      <td>Secondary / secondary special</td>\n",
       "      <td>Civil marriage</td>\n",
       "      <td>House / apartment</td>\n",
       "      <td>-15292.0</td>\n",
       "      <td>-645</td>\n",
       "      <td>1</td>\n",
       "      <td>1</td>\n",
       "      <td>1</td>\n",
       "      <td>0</td>\n",
       "      <td>Drivers</td>\n",
       "      <td>2</td>\n",
       "      <td>0</td>\n",
       "    </tr>\n",
       "    <tr>\n",
       "      <th>1547</th>\n",
       "      <td>5053790</td>\n",
       "      <td>F</td>\n",
       "      <td>Y</td>\n",
       "      <td>Y</td>\n",
       "      <td>0</td>\n",
       "      <td>225000.0</td>\n",
       "      <td>Working</td>\n",
       "      <td>Higher education</td>\n",
       "      <td>Married</td>\n",
       "      <td>House / apartment</td>\n",
       "      <td>-16601.0</td>\n",
       "      <td>-2859</td>\n",
       "      <td>1</td>\n",
       "      <td>0</td>\n",
       "      <td>0</td>\n",
       "      <td>0</td>\n",
       "      <td>NaN</td>\n",
       "      <td>2</td>\n",
       "      <td>0</td>\n",
       "    </tr>\n",
       "  </tbody>\n",
       "</table>\n",
       "<p>1548 rows × 19 columns</p>\n",
       "</div>"
      ],
      "text/plain": [
       "       Ind_ID GENDER Car_Owner Propert_Owner  CHILDREN  Annual_income  \\\n",
       "0     5008827      M         Y             Y         0       180000.0   \n",
       "1     5009744      F         Y             N         0       315000.0   \n",
       "2     5009746      F         Y             N         0       315000.0   \n",
       "3     5009749      F         Y             N         0            NaN   \n",
       "4     5009752      F         Y             N         0       315000.0   \n",
       "...       ...    ...       ...           ...       ...            ...   \n",
       "1543  5028645      F         N             Y         0            NaN   \n",
       "1544  5023655      F         N             N         0       225000.0   \n",
       "1545  5115992      M         Y             Y         2       180000.0   \n",
       "1546  5118219      M         Y             N         0       270000.0   \n",
       "1547  5053790      F         Y             Y         0       225000.0   \n",
       "\n",
       "               Type_Income                      EDUCATION  \\\n",
       "0                Pensioner               Higher education   \n",
       "1     Commercial associate               Higher education   \n",
       "2     Commercial associate               Higher education   \n",
       "3     Commercial associate               Higher education   \n",
       "4     Commercial associate               Higher education   \n",
       "...                    ...                            ...   \n",
       "1543  Commercial associate               Higher education   \n",
       "1544  Commercial associate              Incomplete higher   \n",
       "1545               Working               Higher education   \n",
       "1546               Working  Secondary / secondary special   \n",
       "1547               Working               Higher education   \n",
       "\n",
       "            Marital_status       Housing_type  Birthday_count  Employed_days  \\\n",
       "0                  Married  House / apartment        -18772.0         365243   \n",
       "1                  Married  House / apartment        -13557.0           -586   \n",
       "2                  Married  House / apartment             NaN           -586   \n",
       "3                  Married  House / apartment        -13557.0           -586   \n",
       "4                  Married  House / apartment        -13557.0           -586   \n",
       "...                    ...                ...             ...            ...   \n",
       "1543               Married  House / apartment        -11957.0          -2182   \n",
       "1544  Single / not married  House / apartment        -10229.0          -1209   \n",
       "1545               Married  House / apartment        -13174.0          -2477   \n",
       "1546        Civil marriage  House / apartment        -15292.0           -645   \n",
       "1547               Married  House / apartment        -16601.0          -2859   \n",
       "\n",
       "      Mobile_phone  Work_Phone  Phone  EMAIL_ID Type_Occupation  \\\n",
       "0                1           0      0         0             NaN   \n",
       "1                1           1      1         0             NaN   \n",
       "2                1           1      1         0             NaN   \n",
       "3                1           1      1         0             NaN   \n",
       "4                1           1      1         0             NaN   \n",
       "...            ...         ...    ...       ...             ...   \n",
       "1543             1           0      0         0        Managers   \n",
       "1544             1           0      0         0     Accountants   \n",
       "1545             1           0      0         0        Managers   \n",
       "1546             1           1      1         0         Drivers   \n",
       "1547             1           0      0         0             NaN   \n",
       "\n",
       "      Family_Members  label  \n",
       "0                  2      1  \n",
       "1                  2      1  \n",
       "2                  2      1  \n",
       "3                  2      1  \n",
       "4                  2      1  \n",
       "...              ...    ...  \n",
       "1543               2      0  \n",
       "1544               1      0  \n",
       "1545               4      0  \n",
       "1546               2      0  \n",
       "1547               2      0  \n",
       "\n",
       "[1548 rows x 19 columns]"
      ]
     },
     "execution_count": 3,
     "metadata": {},
     "output_type": "execute_result"
    }
   ],
   "source": [
    "#merge de target data set met de rest van de dataset\n",
    "df2 = df_cred.merge(df_cred_lab, on=\"Ind_ID\", how= \"left\")\n",
    "df2"
   ]
  },
  {
   "cell_type": "code",
   "execution_count": null,
   "id": "4959d206",
   "metadata": {},
   "outputs": [],
   "source": [
    "#drop type occupation simpelweg omdat het te veel verschilende waardes zijn die het kans op overfitting verhogen\n",
    "df2 = df2.drop(\"Type_Occupation\", axis=1)\n"
   ]
  },
  {
   "cell_type": "code",
   "execution_count": null,
   "id": "31c9830e",
   "metadata": {},
   "outputs": [],
   "source": [
    "\n",
    "df2 = df2.dropna(subset=[\"Birthday_count\"])\n"
   ]
  },
  {
   "cell_type": "code",
   "execution_count": null,
   "id": "aaab8f83",
   "metadata": {},
   "outputs": [],
   "source": [
    "#annual income nan values vullen met de mean\n",
    "df2.fillna(value=df2[\"Annual_income\"].mean(), inplace=True)\n"
   ]
  },
  {
   "cell_type": "code",
   "execution_count": 7,
   "id": "78aac9f4",
   "metadata": {},
   "outputs": [
    {
     "name": "stdout",
     "output_type": "stream",
     "text": [
      "<class 'pandas.core.frame.DataFrame'>\n",
      "Index: 1526 entries, 0 to 1547\n",
      "Data columns (total 18 columns):\n",
      " #   Column          Non-Null Count  Dtype  \n",
      "---  ------          --------------  -----  \n",
      " 0   Ind_ID          1526 non-null   int64  \n",
      " 1   GENDER          1526 non-null   object \n",
      " 2   Car_Owner       1526 non-null   object \n",
      " 3   Propert_Owner   1526 non-null   object \n",
      " 4   CHILDREN        1526 non-null   int64  \n",
      " 5   Annual_income   1526 non-null   float64\n",
      " 6   Type_Income     1526 non-null   object \n",
      " 7   EDUCATION       1526 non-null   object \n",
      " 8   Marital_status  1526 non-null   object \n",
      " 9   Housing_type    1526 non-null   object \n",
      " 10  Birthday_count  1526 non-null   float64\n",
      " 11  Employed_days   1526 non-null   int64  \n",
      " 12  Mobile_phone    1526 non-null   int64  \n",
      " 13  Work_Phone      1526 non-null   int64  \n",
      " 14  Phone           1526 non-null   int64  \n",
      " 15  EMAIL_ID        1526 non-null   int64  \n",
      " 16  Family_Members  1526 non-null   int64  \n",
      " 17  label           1526 non-null   int64  \n",
      "dtypes: float64(2), int64(9), object(7)\n",
      "memory usage: 226.5+ KB\n"
     ]
    }
   ],
   "source": [
    "df2.info()"
   ]
  },
  {
   "cell_type": "code",
   "execution_count": 8,
   "id": "07f82518",
   "metadata": {},
   "outputs": [
    {
     "data": {
      "text/html": [
       "<div>\n",
       "<style scoped>\n",
       "    .dataframe tbody tr th:only-of-type {\n",
       "        vertical-align: middle;\n",
       "    }\n",
       "\n",
       "    .dataframe tbody tr th {\n",
       "        vertical-align: top;\n",
       "    }\n",
       "\n",
       "    .dataframe thead th {\n",
       "        text-align: right;\n",
       "    }\n",
       "</style>\n",
       "<table border=\"1\" class=\"dataframe\">\n",
       "  <thead>\n",
       "    <tr style=\"text-align: right;\">\n",
       "      <th></th>\n",
       "      <th>Ind_ID</th>\n",
       "      <th>GENDER</th>\n",
       "      <th>Car_Owner</th>\n",
       "      <th>Propert_Owner</th>\n",
       "      <th>CHILDREN</th>\n",
       "      <th>Annual_income</th>\n",
       "      <th>Type_Income</th>\n",
       "      <th>EDUCATION</th>\n",
       "      <th>Marital_status</th>\n",
       "      <th>Housing_type</th>\n",
       "      <th>Birthday_count</th>\n",
       "      <th>Employed_days</th>\n",
       "      <th>Mobile_phone</th>\n",
       "      <th>Work_Phone</th>\n",
       "      <th>Phone</th>\n",
       "      <th>EMAIL_ID</th>\n",
       "      <th>Family_Members</th>\n",
       "      <th>label</th>\n",
       "    </tr>\n",
       "  </thead>\n",
       "  <tbody>\n",
       "    <tr>\n",
       "      <th>0</th>\n",
       "      <td>5008827</td>\n",
       "      <td>M</td>\n",
       "      <td>Y</td>\n",
       "      <td>Y</td>\n",
       "      <td>0</td>\n",
       "      <td>180000.000000</td>\n",
       "      <td>Pensioner</td>\n",
       "      <td>Higher education</td>\n",
       "      <td>Married</td>\n",
       "      <td>House / apartment</td>\n",
       "      <td>-18772.0</td>\n",
       "      <td>365243</td>\n",
       "      <td>1</td>\n",
       "      <td>0</td>\n",
       "      <td>0</td>\n",
       "      <td>0</td>\n",
       "      <td>2</td>\n",
       "      <td>1</td>\n",
       "    </tr>\n",
       "    <tr>\n",
       "      <th>1</th>\n",
       "      <td>5009744</td>\n",
       "      <td>F</td>\n",
       "      <td>Y</td>\n",
       "      <td>N</td>\n",
       "      <td>0</td>\n",
       "      <td>315000.000000</td>\n",
       "      <td>Commercial associate</td>\n",
       "      <td>Higher education</td>\n",
       "      <td>Married</td>\n",
       "      <td>House / apartment</td>\n",
       "      <td>-13557.0</td>\n",
       "      <td>-586</td>\n",
       "      <td>1</td>\n",
       "      <td>1</td>\n",
       "      <td>1</td>\n",
       "      <td>0</td>\n",
       "      <td>2</td>\n",
       "      <td>1</td>\n",
       "    </tr>\n",
       "    <tr>\n",
       "      <th>3</th>\n",
       "      <td>5009749</td>\n",
       "      <td>F</td>\n",
       "      <td>Y</td>\n",
       "      <td>N</td>\n",
       "      <td>0</td>\n",
       "      <td>191386.541916</td>\n",
       "      <td>Commercial associate</td>\n",
       "      <td>Higher education</td>\n",
       "      <td>Married</td>\n",
       "      <td>House / apartment</td>\n",
       "      <td>-13557.0</td>\n",
       "      <td>-586</td>\n",
       "      <td>1</td>\n",
       "      <td>1</td>\n",
       "      <td>1</td>\n",
       "      <td>0</td>\n",
       "      <td>2</td>\n",
       "      <td>1</td>\n",
       "    </tr>\n",
       "    <tr>\n",
       "      <th>4</th>\n",
       "      <td>5009752</td>\n",
       "      <td>F</td>\n",
       "      <td>Y</td>\n",
       "      <td>N</td>\n",
       "      <td>0</td>\n",
       "      <td>315000.000000</td>\n",
       "      <td>Commercial associate</td>\n",
       "      <td>Higher education</td>\n",
       "      <td>Married</td>\n",
       "      <td>House / apartment</td>\n",
       "      <td>-13557.0</td>\n",
       "      <td>-586</td>\n",
       "      <td>1</td>\n",
       "      <td>1</td>\n",
       "      <td>1</td>\n",
       "      <td>0</td>\n",
       "      <td>2</td>\n",
       "      <td>1</td>\n",
       "    </tr>\n",
       "    <tr>\n",
       "      <th>5</th>\n",
       "      <td>5009753</td>\n",
       "      <td>191386.541916</td>\n",
       "      <td>Y</td>\n",
       "      <td>N</td>\n",
       "      <td>0</td>\n",
       "      <td>315000.000000</td>\n",
       "      <td>Pensioner</td>\n",
       "      <td>Higher education</td>\n",
       "      <td>Married</td>\n",
       "      <td>House / apartment</td>\n",
       "      <td>-13557.0</td>\n",
       "      <td>-586</td>\n",
       "      <td>1</td>\n",
       "      <td>1</td>\n",
       "      <td>1</td>\n",
       "      <td>0</td>\n",
       "      <td>2</td>\n",
       "      <td>1</td>\n",
       "    </tr>\n",
       "  </tbody>\n",
       "</table>\n",
       "</div>"
      ],
      "text/plain": [
       "    Ind_ID         GENDER Car_Owner Propert_Owner  CHILDREN  Annual_income  \\\n",
       "0  5008827              M         Y             Y         0  180000.000000   \n",
       "1  5009744              F         Y             N         0  315000.000000   \n",
       "3  5009749              F         Y             N         0  191386.541916   \n",
       "4  5009752              F         Y             N         0  315000.000000   \n",
       "5  5009753  191386.541916         Y             N         0  315000.000000   \n",
       "\n",
       "            Type_Income         EDUCATION Marital_status       Housing_type  \\\n",
       "0             Pensioner  Higher education        Married  House / apartment   \n",
       "1  Commercial associate  Higher education        Married  House / apartment   \n",
       "3  Commercial associate  Higher education        Married  House / apartment   \n",
       "4  Commercial associate  Higher education        Married  House / apartment   \n",
       "5             Pensioner  Higher education        Married  House / apartment   \n",
       "\n",
       "   Birthday_count  Employed_days  Mobile_phone  Work_Phone  Phone  EMAIL_ID  \\\n",
       "0        -18772.0         365243             1           0      0         0   \n",
       "1        -13557.0           -586             1           1      1         0   \n",
       "3        -13557.0           -586             1           1      1         0   \n",
       "4        -13557.0           -586             1           1      1         0   \n",
       "5        -13557.0           -586             1           1      1         0   \n",
       "\n",
       "   Family_Members  label  \n",
       "0               2      1  \n",
       "1               2      1  \n",
       "3               2      1  \n",
       "4               2      1  \n",
       "5               2      1  "
      ]
     },
     "execution_count": 8,
     "metadata": {},
     "output_type": "execute_result"
    }
   ],
   "source": [
    "df2.head()"
   ]
  },
  {
   "cell_type": "code",
   "execution_count": null,
   "id": "67250662",
   "metadata": {},
   "outputs": [
    {
     "data": {
      "image/png": "[encoded data removed]",
      "text/plain": [
       "<Figure size 640x480 with 1 Axes>"
      ]
     },
     "metadata": {},
     "output_type": "display_data"
    }
   ],
   "source": [
    "import matplotlib.pyplot as plt\n",
    "\n",
    "label_count = df2[\"label\"].value_counts()\n",
    "\n",
    "labels = [\"Credit approved\", \"Credit rejected\"]\n",
    "\n",
    "plt.pie(label_count, labels=labels, autopct=\"%1.1f%%\")\n",
    "plt.title(\"Credit Approval\")\n",
    "plt.show()\n"
   ]
  },
  {
   "cell_type": "code",
   "execution_count": 10,
   "id": "0a284994",
   "metadata": {},
   "outputs": [
    {
     "data": {
      "text/plain": [
       "Annual_income\n",
       "33750.0                                       Married\n",
       "36000.0                                       Married\n",
       "37800.0                                       Married\n",
       "40500.0                                MarriedMarried\n",
       "44550.0                                       Married\n",
       "                               ...                   \n",
       "675000.0                         Single / not married\n",
       "787500.0                                      Married\n",
       "810000.0                               Civil marriage\n",
       "900000.0          MarriedMarriedMarriedCivil marriage\n",
       "1575000.0    Single / not marriedSingle / not married\n",
       "Name: Marital_status, Length: 116, dtype: object"
      ]
     },
     "execution_count": 10,
     "metadata": {},
     "output_type": "execute_result"
    }
   ],
   "source": [
    "df2.groupby(\"Annual_income\")[\"CHILDREN\"].sum()\n",
    "df2.groupby(\"Annual_income\")[\"Marital_status\"].sum()"
   ]
  },
  {
   "cell_type": "code",
   "execution_count": 11,
   "id": "499f5232",
   "metadata": {},
   "outputs": [
    {
     "data": {
      "image/png": "[encoded data removed]",
      "text/plain": [
       "<Figure size 640x480 with 1 Axes>"
      ]
     },
     "metadata": {},
     "output_type": "display_data"
    }
   ],
   "source": [
    "sns.boxplot(\n",
    "    x=\"Marital_status\",\n",
    "    y=\"Annual_income\",\n",
    "    data=df2,\n",
    "    width=0.8  # This controls box width and hence the spacing\n",
    ")\n",
    "plt.title(\"Credit Approval\")\n",
    "plt.show()"
   ]
  },
  {
   "cell_type": "code",
   "execution_count": null,
   "id": "8c96f0e7",
   "metadata": {},
   "outputs": [],
   "source": [
    "#map binaire waardes naar nummerieke binaire waardes\n",
    "df2[\"GENDER\"] = df2[\"GENDER\"].map({\"M\": 1, \"F\": 0})\n",
    "df2[\"Car_Owner\"] = df2[\"Car_Owner\"].map({\"Y\": 1, \"N\": 0})\n",
    "df2[\"Propert_Owner\"] = df2[\"Propert_Owner\"].map({\"Y\": 1, \"N\": 0})"
   ]
  },
  {
   "cell_type": "code",
   "execution_count": null,
   "id": "7f2ac5c6",
   "metadata": {},
   "outputs": [
    {
     "name": "stdout",
     "output_type": "stream",
     "text": [
      "<class 'pandas.core.frame.DataFrame'>\n",
      "Index: 1526 entries, 0 to 1547\n",
      "Data columns (total 18 columns):\n",
      " #   Column          Non-Null Count  Dtype  \n",
      "---  ------          --------------  -----  \n",
      " 0   Ind_ID          1526 non-null   int64  \n",
      " 1   GENDER          1526 non-null   int64  \n",
      " 2   Car_Owner       1526 non-null   int64  \n",
      " 3   Propert_Owner   1526 non-null   int64  \n",
      " 4   CHILDREN        1526 non-null   int64  \n",
      " 5   Annual_income   1526 non-null   float64\n",
      " 6   Type_Income     1526 non-null   object \n",
      " 7   EDUCATION       1526 non-null   object \n",
      " 8   Marital_status  1526 non-null   object \n",
      " 9   Housing_type    1526 non-null   object \n",
      " 10  Birthday_count  1526 non-null   float64\n",
      " 11  Employed_days   1526 non-null   int64  \n",
      " 12  Mobile_phone    1526 non-null   int64  \n",
      " 13  Work_Phone      1526 non-null   int64  \n",
      " 14  Phone           1526 non-null   int64  \n",
      " 15  EMAIL_ID        1526 non-null   int64  \n",
      " 16  Family_Members  1526 non-null   int64  \n",
      " 17  label           1526 non-null   int64  \n",
      "dtypes: float64(2), int64(12), object(4)\n",
      "memory usage: 226.5+ KB\n"
     ]
    },
    {
     "data": {
      "text/html": [
       "<div>\n",
       "<style scoped>\n",
       "    .dataframe tbody tr th:only-of-type {\n",
       "        vertical-align: middle;\n",
       "    }\n",
       "\n",
       "    .dataframe tbody tr th {\n",
       "        vertical-align: top;\n",
       "    }\n",
       "\n",
       "    .dataframe thead th {\n",
       "        text-align: right;\n",
       "    }\n",
       "</style>\n",
       "<table border=\"1\" class=\"dataframe\">\n",
       "  <thead>\n",
       "    <tr style=\"text-align: right;\">\n",
       "      <th></th>\n",
       "      <th>Ind_ID</th>\n",
       "      <th>GENDER</th>\n",
       "      <th>Car_Owner</th>\n",
       "      <th>Propert_Owner</th>\n",
       "      <th>CHILDREN</th>\n",
       "      <th>Annual_income</th>\n",
       "      <th>Type_Income</th>\n",
       "      <th>EDUCATION</th>\n",
       "      <th>Marital_status</th>\n",
       "      <th>Housing_type</th>\n",
       "      <th>Birthday_count</th>\n",
       "      <th>Employed_days</th>\n",
       "      <th>Mobile_phone</th>\n",
       "      <th>Work_Phone</th>\n",
       "      <th>Phone</th>\n",
       "      <th>EMAIL_ID</th>\n",
       "      <th>Family_Members</th>\n",
       "      <th>label</th>\n",
       "    </tr>\n",
       "  </thead>\n",
       "  <tbody>\n",
       "    <tr>\n",
       "      <th>0</th>\n",
       "      <td>5008827</td>\n",
       "      <td>1</td>\n",
       "      <td>1</td>\n",
       "      <td>1</td>\n",
       "      <td>0</td>\n",
       "      <td>180000.000000</td>\n",
       "      <td>Pensioner</td>\n",
       "      <td>Higher education</td>\n",
       "      <td>Married</td>\n",
       "      <td>House / apartment</td>\n",
       "      <td>18772.0</td>\n",
       "      <td>365243</td>\n",
       "      <td>1</td>\n",
       "      <td>0</td>\n",
       "      <td>0</td>\n",
       "      <td>0</td>\n",
       "      <td>2</td>\n",
       "      <td>1</td>\n",
       "    </tr>\n",
       "    <tr>\n",
       "      <th>1</th>\n",
       "      <td>5009744</td>\n",
       "      <td>0</td>\n",
       "      <td>1</td>\n",
       "      <td>0</td>\n",
       "      <td>0</td>\n",
       "      <td>315000.000000</td>\n",
       "      <td>Commercial associate</td>\n",
       "      <td>Higher education</td>\n",
       "      <td>Married</td>\n",
       "      <td>House / apartment</td>\n",
       "      <td>13557.0</td>\n",
       "      <td>586</td>\n",
       "      <td>1</td>\n",
       "      <td>1</td>\n",
       "      <td>1</td>\n",
       "      <td>0</td>\n",
       "      <td>2</td>\n",
       "      <td>1</td>\n",
       "    </tr>\n",
       "    <tr>\n",
       "      <th>3</th>\n",
       "      <td>5009749</td>\n",
       "      <td>0</td>\n",
       "      <td>1</td>\n",
       "      <td>0</td>\n",
       "      <td>0</td>\n",
       "      <td>191386.541916</td>\n",
       "      <td>Commercial associate</td>\n",
       "      <td>Higher education</td>\n",
       "      <td>Married</td>\n",
       "      <td>House / apartment</td>\n",
       "      <td>13557.0</td>\n",
       "      <td>586</td>\n",
       "      <td>1</td>\n",
       "      <td>1</td>\n",
       "      <td>1</td>\n",
       "      <td>0</td>\n",
       "      <td>2</td>\n",
       "      <td>1</td>\n",
       "    </tr>\n",
       "    <tr>\n",
       "      <th>4</th>\n",
       "      <td>5009752</td>\n",
       "      <td>0</td>\n",
       "      <td>1</td>\n",
       "      <td>0</td>\n",
       "      <td>0</td>\n",
       "      <td>315000.000000</td>\n",
       "      <td>Commercial associate</td>\n",
       "      <td>Higher education</td>\n",
       "      <td>Married</td>\n",
       "      <td>House / apartment</td>\n",
       "      <td>13557.0</td>\n",
       "      <td>586</td>\n",
       "      <td>1</td>\n",
       "      <td>1</td>\n",
       "      <td>1</td>\n",
       "      <td>0</td>\n",
       "      <td>2</td>\n",
       "      <td>1</td>\n",
       "    </tr>\n",
       "    <tr>\n",
       "      <th>5</th>\n",
       "      <td>5009753</td>\n",
       "      <td>1</td>\n",
       "      <td>1</td>\n",
       "      <td>0</td>\n",
       "      <td>0</td>\n",
       "      <td>315000.000000</td>\n",
       "      <td>Pensioner</td>\n",
       "      <td>Higher education</td>\n",
       "      <td>Married</td>\n",
       "      <td>House / apartment</td>\n",
       "      <td>13557.0</td>\n",
       "      <td>586</td>\n",
       "      <td>1</td>\n",
       "      <td>1</td>\n",
       "      <td>1</td>\n",
       "      <td>0</td>\n",
       "      <td>2</td>\n",
       "      <td>1</td>\n",
       "    </tr>\n",
       "  </tbody>\n",
       "</table>\n",
       "</div>"
      ],
      "text/plain": [
       "    Ind_ID  GENDER  Car_Owner  Propert_Owner  CHILDREN  Annual_income  \\\n",
       "0  5008827       1          1              1         0  180000.000000   \n",
       "1  5009744       0          1              0         0  315000.000000   \n",
       "3  5009749       0          1              0         0  191386.541916   \n",
       "4  5009752       0          1              0         0  315000.000000   \n",
       "5  5009753       1          1              0         0  315000.000000   \n",
       "\n",
       "            Type_Income         EDUCATION Marital_status       Housing_type  \\\n",
       "0             Pensioner  Higher education        Married  House / apartment   \n",
       "1  Commercial associate  Higher education        Married  House / apartment   \n",
       "3  Commercial associate  Higher education        Married  House / apartment   \n",
       "4  Commercial associate  Higher education        Married  House / apartment   \n",
       "5             Pensioner  Higher education        Married  House / apartment   \n",
       "\n",
       "   Birthday_count  Employed_days  Mobile_phone  Work_Phone  Phone  EMAIL_ID  \\\n",
       "0         18772.0         365243             1           0      0         0   \n",
       "1         13557.0            586             1           1      1         0   \n",
       "3         13557.0            586             1           1      1         0   \n",
       "4         13557.0            586             1           1      1         0   \n",
       "5         13557.0            586             1           1      1         0   \n",
       "\n",
       "   Family_Members  label  \n",
       "0               2      1  \n",
       "1               2      1  \n",
       "3               2      1  \n",
       "4               2      1  \n",
       "5               2      1  "
      ]
     },
     "execution_count": 13,
     "metadata": {},
     "output_type": "execute_result"
    }
   ],
   "source": [
    "\n",
    "df2[\"GENDER\"] = df2[\"GENDER\"].fillna(1)\n",
    "df2[\"GENDER\"] = df2[\"GENDER\"].astype(int)\n",
    "df2[\"Employed_days\"] = df2[\"Employed_days\"].abs()\n",
    "df2[\"Birthday_count\"] = df2[\"Birthday_count\"].abs()\n",
    "df2.info()\n",
    "df2.head()\n"
   ]
  },
  {
   "cell_type": "code",
   "execution_count": null,
   "id": "4b9499b5",
   "metadata": {},
   "outputs": [
    {
     "data": {
      "text/plain": [
       "<bound method IndexOpsMixin.value_counts of 0                    Married\n",
       "1                    Married\n",
       "3                    Married\n",
       "4                    Married\n",
       "5                    Married\n",
       "                ...         \n",
       "1543                 Married\n",
       "1544    Single / not married\n",
       "1545                 Married\n",
       "1546          Civil marriage\n",
       "1547                 Married\n",
       "Name: Marital_status, Length: 1526, dtype: object>"
      ]
     },
     "execution_count": 14,
     "metadata": {},
     "output_type": "execute_result"
    }
   ],
   "source": [
    "df2[\"Marital_status\"].value_counts"
   ]
  },
  {
   "cell_type": "code",
   "execution_count": null,
   "id": "06ea2984",
   "metadata": {},
   "outputs": [
    {
     "data": {
      "text/html": [
       "<div>\n",
       "<style scoped>\n",
       "    .dataframe tbody tr th:only-of-type {\n",
       "        vertical-align: middle;\n",
       "    }\n",
       "\n",
       "    .dataframe tbody tr th {\n",
       "        vertical-align: top;\n",
       "    }\n",
       "\n",
       "    .dataframe thead th {\n",
       "        text-align: right;\n",
       "    }\n",
       "</style>\n",
       "<table border=\"1\" class=\"dataframe\">\n",
       "  <thead>\n",
       "    <tr style=\"text-align: right;\">\n",
       "      <th></th>\n",
       "      <th>Ind_ID</th>\n",
       "      <th>GENDER</th>\n",
       "      <th>Car_Owner</th>\n",
       "      <th>Propert_Owner</th>\n",
       "      <th>CHILDREN</th>\n",
       "      <th>Annual_income</th>\n",
       "      <th>Type_Income</th>\n",
       "      <th>EDUCATION</th>\n",
       "      <th>Housing_type</th>\n",
       "      <th>Birthday_count</th>\n",
       "      <th>...</th>\n",
       "      <th>Work_Phone</th>\n",
       "      <th>Phone</th>\n",
       "      <th>EMAIL_ID</th>\n",
       "      <th>Family_Members</th>\n",
       "      <th>label</th>\n",
       "      <th>Marital_status_Married</th>\n",
       "      <th>Marital_status_Single / not married</th>\n",
       "      <th>Marital_status_Civil marriage</th>\n",
       "      <th>Marital_status_Separated</th>\n",
       "      <th>Marital_status_Widow</th>\n",
       "    </tr>\n",
       "  </thead>\n",
       "  <tbody>\n",
       "    <tr>\n",
       "      <th>0</th>\n",
       "      <td>5008827</td>\n",
       "      <td>1</td>\n",
       "      <td>1</td>\n",
       "      <td>1</td>\n",
       "      <td>0</td>\n",
       "      <td>180000.000000</td>\n",
       "      <td>Pensioner</td>\n",
       "      <td>Higher education</td>\n",
       "      <td>House / apartment</td>\n",
       "      <td>18772.0</td>\n",
       "      <td>...</td>\n",
       "      <td>0</td>\n",
       "      <td>0</td>\n",
       "      <td>0</td>\n",
       "      <td>2</td>\n",
       "      <td>1</td>\n",
       "      <td>1.0</td>\n",
       "      <td>0.0</td>\n",
       "      <td>0.0</td>\n",
       "      <td>0.0</td>\n",
       "      <td>0.0</td>\n",
       "    </tr>\n",
       "    <tr>\n",
       "      <th>1</th>\n",
       "      <td>5009744</td>\n",
       "      <td>0</td>\n",
       "      <td>1</td>\n",
       "      <td>0</td>\n",
       "      <td>0</td>\n",
       "      <td>315000.000000</td>\n",
       "      <td>Commercial associate</td>\n",
       "      <td>Higher education</td>\n",
       "      <td>House / apartment</td>\n",
       "      <td>13557.0</td>\n",
       "      <td>...</td>\n",
       "      <td>1</td>\n",
       "      <td>1</td>\n",
       "      <td>0</td>\n",
       "      <td>2</td>\n",
       "      <td>1</td>\n",
       "      <td>1.0</td>\n",
       "      <td>0.0</td>\n",
       "      <td>0.0</td>\n",
       "      <td>0.0</td>\n",
       "      <td>0.0</td>\n",
       "    </tr>\n",
       "    <tr>\n",
       "      <th>3</th>\n",
       "      <td>5009749</td>\n",
       "      <td>0</td>\n",
       "      <td>1</td>\n",
       "      <td>0</td>\n",
       "      <td>0</td>\n",
       "      <td>191386.541916</td>\n",
       "      <td>Commercial associate</td>\n",
       "      <td>Higher education</td>\n",
       "      <td>House / apartment</td>\n",
       "      <td>13557.0</td>\n",
       "      <td>...</td>\n",
       "      <td>1</td>\n",
       "      <td>1</td>\n",
       "      <td>0</td>\n",
       "      <td>2</td>\n",
       "      <td>1</td>\n",
       "      <td>1.0</td>\n",
       "      <td>0.0</td>\n",
       "      <td>0.0</td>\n",
       "      <td>0.0</td>\n",
       "      <td>0.0</td>\n",
       "    </tr>\n",
       "    <tr>\n",
       "      <th>4</th>\n",
       "      <td>5009752</td>\n",
       "      <td>0</td>\n",
       "      <td>1</td>\n",
       "      <td>0</td>\n",
       "      <td>0</td>\n",
       "      <td>315000.000000</td>\n",
       "      <td>Commercial associate</td>\n",
       "      <td>Higher education</td>\n",
       "      <td>House / apartment</td>\n",
       "      <td>13557.0</td>\n",
       "      <td>...</td>\n",
       "      <td>1</td>\n",
       "      <td>1</td>\n",
       "      <td>0</td>\n",
       "      <td>2</td>\n",
       "      <td>1</td>\n",
       "      <td>1.0</td>\n",
       "      <td>0.0</td>\n",
       "      <td>0.0</td>\n",
       "      <td>0.0</td>\n",
       "      <td>0.0</td>\n",
       "    </tr>\n",
       "    <tr>\n",
       "      <th>5</th>\n",
       "      <td>5009753</td>\n",
       "      <td>1</td>\n",
       "      <td>1</td>\n",
       "      <td>0</td>\n",
       "      <td>0</td>\n",
       "      <td>315000.000000</td>\n",
       "      <td>Pensioner</td>\n",
       "      <td>Higher education</td>\n",
       "      <td>House / apartment</td>\n",
       "      <td>13557.0</td>\n",
       "      <td>...</td>\n",
       "      <td>1</td>\n",
       "      <td>1</td>\n",
       "      <td>0</td>\n",
       "      <td>2</td>\n",
       "      <td>1</td>\n",
       "      <td>1.0</td>\n",
       "      <td>0.0</td>\n",
       "      <td>0.0</td>\n",
       "      <td>0.0</td>\n",
       "      <td>0.0</td>\n",
       "    </tr>\n",
       "  </tbody>\n",
       "</table>\n",
       "<p>5 rows × 22 columns</p>\n",
       "</div>"
      ],
      "text/plain": [
       "    Ind_ID  GENDER  Car_Owner  Propert_Owner  CHILDREN  Annual_income  \\\n",
       "0  5008827       1          1              1         0  180000.000000   \n",
       "1  5009744       0          1              0         0  315000.000000   \n",
       "3  5009749       0          1              0         0  191386.541916   \n",
       "4  5009752       0          1              0         0  315000.000000   \n",
       "5  5009753       1          1              0         0  315000.000000   \n",
       "\n",
       "            Type_Income         EDUCATION       Housing_type  Birthday_count  \\\n",
       "0             Pensioner  Higher education  House / apartment         18772.0   \n",
       "1  Commercial associate  Higher education  House / apartment         13557.0   \n",
       "3  Commercial associate  Higher education  House / apartment         13557.0   \n",
       "4  Commercial associate  Higher education  House / apartment         13557.0   \n",
       "5             Pensioner  Higher education  House / apartment         13557.0   \n",
       "\n",
       "   ...  Work_Phone  Phone  EMAIL_ID  Family_Members  label  \\\n",
       "0  ...           0      0         0               2      1   \n",
       "1  ...           1      1         0               2      1   \n",
       "3  ...           1      1         0               2      1   \n",
       "4  ...           1      1         0               2      1   \n",
       "5  ...           1      1         0               2      1   \n",
       "\n",
       "   Marital_status_Married  Marital_status_Single / not married  \\\n",
       "0                     1.0                                  0.0   \n",
       "1                     1.0                                  0.0   \n",
       "3                     1.0                                  0.0   \n",
       "4                     1.0                                  0.0   \n",
       "5                     1.0                                  0.0   \n",
       "\n",
       "   Marital_status_Civil marriage  Marital_status_Separated  \\\n",
       "0                            0.0                       0.0   \n",
       "1                            0.0                       0.0   \n",
       "3                            0.0                       0.0   \n",
       "4                            0.0                       0.0   \n",
       "5                            0.0                       0.0   \n",
       "\n",
       "   Marital_status_Widow  \n",
       "0                   0.0  \n",
       "1                   0.0  \n",
       "3                   0.0  \n",
       "4                   0.0  \n",
       "5                   0.0  \n",
       "\n",
       "[5 rows x 22 columns]"
      ]
     },
     "execution_count": 19,
     "metadata": {},
     "output_type": "execute_result"
    }
   ],
   "source": [
    "#one hot encode categories van de feature marital_status\n",
    "\n",
    "from sklearn.preprocessing import OneHotEncoder\n",
    "import pandas as pd\n",
    "\n",
    "categories = [[\"Married\", \"Single / not married\", \"Civil marriage\", \"Separated\", \"Widow\"]]\n",
    "ohe = OneHotEncoder(categories=categories, sparse_output=False, handle_unknown='ignore')\n",
    "\n",
    "marital_ohe = ohe.fit_transform(df2[[\"Marital_status\"]])  # Note the double brackets\n",
    "\n",
    "ohe_columns = ohe.get_feature_names_out([\"Marital_status\"])\n",
    "\n",
    "marital_df = pd.DataFrame(marital_ohe, columns=ohe_columns, index=df2.index)\n",
    "\n",
    "df2 = pd.concat([df2.drop(columns=[\"Marital_status\"]), marital_df], axis=1)\n",
    "\n",
    "df2.head()\n"
   ]
  },
  {
   "cell_type": "code",
   "execution_count": 22,
   "id": "b8ada2d5",
   "metadata": {},
   "outputs": [
    {
     "data": {
      "text/plain": [
       "EDUCATION\n",
       "Secondary / secondary special    1015\n",
       "Higher education                  421\n",
       "Incomplete higher                  67\n",
       "Lower secondary                    21\n",
       "Academic degree                     2\n",
       "Name: count, dtype: int64"
      ]
     },
     "execution_count": 22,
     "metadata": {},
     "output_type": "execute_result"
    }
   ],
   "source": [
    "df2[\"EDUCATION\"].value_counts()"
   ]
  },
  {
   "cell_type": "code",
   "execution_count": null,
   "id": "e4e48dcb",
   "metadata": {},
   "outputs": [
    {
     "data": {
      "text/html": [
       "<div>\n",
       "<style scoped>\n",
       "    .dataframe tbody tr th:only-of-type {\n",
       "        vertical-align: middle;\n",
       "    }\n",
       "\n",
       "    .dataframe tbody tr th {\n",
       "        vertical-align: top;\n",
       "    }\n",
       "\n",
       "    .dataframe thead th {\n",
       "        text-align: right;\n",
       "    }\n",
       "</style>\n",
       "<table border=\"1\" class=\"dataframe\">\n",
       "  <thead>\n",
       "    <tr style=\"text-align: right;\">\n",
       "      <th></th>\n",
       "      <th>Ind_ID</th>\n",
       "      <th>GENDER</th>\n",
       "      <th>Car_Owner</th>\n",
       "      <th>Propert_Owner</th>\n",
       "      <th>CHILDREN</th>\n",
       "      <th>Annual_income</th>\n",
       "      <th>Type_Income</th>\n",
       "      <th>EDUCATION</th>\n",
       "      <th>Birthday_count</th>\n",
       "      <th>Employed_days</th>\n",
       "      <th>...</th>\n",
       "      <th>Marital_status_Single / not married</th>\n",
       "      <th>Marital_status_Civil marriage</th>\n",
       "      <th>Marital_status_Separated</th>\n",
       "      <th>Marital_status_Widow</th>\n",
       "      <th>Housing_type_House / apartment</th>\n",
       "      <th>Housing_type_With parents</th>\n",
       "      <th>Housing_type_Municipal apartment</th>\n",
       "      <th>Housing_type_Rented apartment</th>\n",
       "      <th>Housing_type_Office apartment</th>\n",
       "      <th>Housing_type_Co-op apartment</th>\n",
       "    </tr>\n",
       "  </thead>\n",
       "  <tbody>\n",
       "    <tr>\n",
       "      <th>0</th>\n",
       "      <td>5008827</td>\n",
       "      <td>1</td>\n",
       "      <td>1</td>\n",
       "      <td>1</td>\n",
       "      <td>0</td>\n",
       "      <td>180000.000000</td>\n",
       "      <td>Pensioner</td>\n",
       "      <td>Higher education</td>\n",
       "      <td>18772.0</td>\n",
       "      <td>365243</td>\n",
       "      <td>...</td>\n",
       "      <td>0.0</td>\n",
       "      <td>0.0</td>\n",
       "      <td>0.0</td>\n",
       "      <td>0.0</td>\n",
       "      <td>1.0</td>\n",
       "      <td>0.0</td>\n",
       "      <td>0.0</td>\n",
       "      <td>0.0</td>\n",
       "      <td>0.0</td>\n",
       "      <td>0.0</td>\n",
       "    </tr>\n",
       "    <tr>\n",
       "      <th>1</th>\n",
       "      <td>5009744</td>\n",
       "      <td>0</td>\n",
       "      <td>1</td>\n",
       "      <td>0</td>\n",
       "      <td>0</td>\n",
       "      <td>315000.000000</td>\n",
       "      <td>Commercial associate</td>\n",
       "      <td>Higher education</td>\n",
       "      <td>13557.0</td>\n",
       "      <td>586</td>\n",
       "      <td>...</td>\n",
       "      <td>0.0</td>\n",
       "      <td>0.0</td>\n",
       "      <td>0.0</td>\n",
       "      <td>0.0</td>\n",
       "      <td>1.0</td>\n",
       "      <td>0.0</td>\n",
       "      <td>0.0</td>\n",
       "      <td>0.0</td>\n",
       "      <td>0.0</td>\n",
       "      <td>0.0</td>\n",
       "    </tr>\n",
       "    <tr>\n",
       "      <th>3</th>\n",
       "      <td>5009749</td>\n",
       "      <td>0</td>\n",
       "      <td>1</td>\n",
       "      <td>0</td>\n",
       "      <td>0</td>\n",
       "      <td>191386.541916</td>\n",
       "      <td>Commercial associate</td>\n",
       "      <td>Higher education</td>\n",
       "      <td>13557.0</td>\n",
       "      <td>586</td>\n",
       "      <td>...</td>\n",
       "      <td>0.0</td>\n",
       "      <td>0.0</td>\n",
       "      <td>0.0</td>\n",
       "      <td>0.0</td>\n",
       "      <td>1.0</td>\n",
       "      <td>0.0</td>\n",
       "      <td>0.0</td>\n",
       "      <td>0.0</td>\n",
       "      <td>0.0</td>\n",
       "      <td>0.0</td>\n",
       "    </tr>\n",
       "    <tr>\n",
       "      <th>4</th>\n",
       "      <td>5009752</td>\n",
       "      <td>0</td>\n",
       "      <td>1</td>\n",
       "      <td>0</td>\n",
       "      <td>0</td>\n",
       "      <td>315000.000000</td>\n",
       "      <td>Commercial associate</td>\n",
       "      <td>Higher education</td>\n",
       "      <td>13557.0</td>\n",
       "      <td>586</td>\n",
       "      <td>...</td>\n",
       "      <td>0.0</td>\n",
       "      <td>0.0</td>\n",
       "      <td>0.0</td>\n",
       "      <td>0.0</td>\n",
       "      <td>1.0</td>\n",
       "      <td>0.0</td>\n",
       "      <td>0.0</td>\n",
       "      <td>0.0</td>\n",
       "      <td>0.0</td>\n",
       "      <td>0.0</td>\n",
       "    </tr>\n",
       "    <tr>\n",
       "      <th>5</th>\n",
       "      <td>5009753</td>\n",
       "      <td>1</td>\n",
       "      <td>1</td>\n",
       "      <td>0</td>\n",
       "      <td>0</td>\n",
       "      <td>315000.000000</td>\n",
       "      <td>Pensioner</td>\n",
       "      <td>Higher education</td>\n",
       "      <td>13557.0</td>\n",
       "      <td>586</td>\n",
       "      <td>...</td>\n",
       "      <td>0.0</td>\n",
       "      <td>0.0</td>\n",
       "      <td>0.0</td>\n",
       "      <td>0.0</td>\n",
       "      <td>1.0</td>\n",
       "      <td>0.0</td>\n",
       "      <td>0.0</td>\n",
       "      <td>0.0</td>\n",
       "      <td>0.0</td>\n",
       "      <td>0.0</td>\n",
       "    </tr>\n",
       "  </tbody>\n",
       "</table>\n",
       "<p>5 rows × 27 columns</p>\n",
       "</div>"
      ],
      "text/plain": [
       "    Ind_ID  GENDER  Car_Owner  Propert_Owner  CHILDREN  Annual_income  \\\n",
       "0  5008827       1          1              1         0  180000.000000   \n",
       "1  5009744       0          1              0         0  315000.000000   \n",
       "3  5009749       0          1              0         0  191386.541916   \n",
       "4  5009752       0          1              0         0  315000.000000   \n",
       "5  5009753       1          1              0         0  315000.000000   \n",
       "\n",
       "            Type_Income         EDUCATION  Birthday_count  Employed_days  ...  \\\n",
       "0             Pensioner  Higher education         18772.0         365243  ...   \n",
       "1  Commercial associate  Higher education         13557.0            586  ...   \n",
       "3  Commercial associate  Higher education         13557.0            586  ...   \n",
       "4  Commercial associate  Higher education         13557.0            586  ...   \n",
       "5             Pensioner  Higher education         13557.0            586  ...   \n",
       "\n",
       "   Marital_status_Single / not married  Marital_status_Civil marriage  \\\n",
       "0                                  0.0                            0.0   \n",
       "1                                  0.0                            0.0   \n",
       "3                                  0.0                            0.0   \n",
       "4                                  0.0                            0.0   \n",
       "5                                  0.0                            0.0   \n",
       "\n",
       "   Marital_status_Separated  Marital_status_Widow  \\\n",
       "0                       0.0                   0.0   \n",
       "1                       0.0                   0.0   \n",
       "3                       0.0                   0.0   \n",
       "4                       0.0                   0.0   \n",
       "5                       0.0                   0.0   \n",
       "\n",
       "   Housing_type_House / apartment  Housing_type_With parents  \\\n",
       "0                             1.0                        0.0   \n",
       "1                             1.0                        0.0   \n",
       "3                             1.0                        0.0   \n",
       "4                             1.0                        0.0   \n",
       "5                             1.0                        0.0   \n",
       "\n",
       "   Housing_type_Municipal apartment  Housing_type_Rented apartment  \\\n",
       "0                               0.0                            0.0   \n",
       "1                               0.0                            0.0   \n",
       "3                               0.0                            0.0   \n",
       "4                               0.0                            0.0   \n",
       "5                               0.0                            0.0   \n",
       "\n",
       "   Housing_type_Office apartment  Housing_type_Co-op apartment  \n",
       "0                            0.0                           0.0  \n",
       "1                            0.0                           0.0  \n",
       "3                            0.0                           0.0  \n",
       "4                            0.0                           0.0  \n",
       "5                            0.0                           0.0  \n",
       "\n",
       "[5 rows x 27 columns]"
      ]
     },
     "execution_count": 21,
     "metadata": {},
     "output_type": "execute_result"
    }
   ],
   "source": [
    "#one hot encode categories van de feature housing type\n",
    "\n",
    "from sklearn.preprocessing import OneHotEncoder\n",
    "import pandas as pd\n",
    "\n",
    "categories = [[\"House / apartment\", \"With parents\", \"Municipal apartment\", \"Rented apartment\", \"Office apartment\", \"Co-op apartment\"]]\n",
    "ohe = OneHotEncoder(categories=categories, sparse_output=False, handle_unknown='ignore')\n",
    "\n",
    "marital_ohe = ohe.fit_transform(df2[[\"Housing_type\"]])  # Note the double brackets\n",
    "\n",
    "ohe_columns = ohe.get_feature_names_out([\"Housing_type\"])\n",
    "\n",
    "marital_df = pd.DataFrame(marital_ohe, columns=ohe_columns, index=df2.index)\n",
    "\n",
    "df2 = pd.concat([df2.drop(columns=[\"Housing_type\"]), marital_df], axis=1)\n",
    "\n",
    "df2.head()"
   ]
  },
  {
   "cell_type": "code",
   "execution_count": null,
   "id": "10b6d0e8",
   "metadata": {},
   "outputs": [
    {
     "data": {
      "text/html": [
       "<div>\n",
       "<style scoped>\n",
       "    .dataframe tbody tr th:only-of-type {\n",
       "        vertical-align: middle;\n",
       "    }\n",
       "\n",
       "    .dataframe tbody tr th {\n",
       "        vertical-align: top;\n",
       "    }\n",
       "\n",
       "    .dataframe thead th {\n",
       "        text-align: right;\n",
       "    }\n",
       "</style>\n",
       "<table border=\"1\" class=\"dataframe\">\n",
       "  <thead>\n",
       "    <tr style=\"text-align: right;\">\n",
       "      <th></th>\n",
       "      <th>Ind_ID</th>\n",
       "      <th>GENDER</th>\n",
       "      <th>Car_Owner</th>\n",
       "      <th>Propert_Owner</th>\n",
       "      <th>CHILDREN</th>\n",
       "      <th>Annual_income</th>\n",
       "      <th>Type_Income</th>\n",
       "      <th>Birthday_count</th>\n",
       "      <th>Employed_days</th>\n",
       "      <th>Mobile_phone</th>\n",
       "      <th>...</th>\n",
       "      <th>Housing_type_With parents</th>\n",
       "      <th>Housing_type_Municipal apartment</th>\n",
       "      <th>Housing_type_Rented apartment</th>\n",
       "      <th>Housing_type_Office apartment</th>\n",
       "      <th>Housing_type_Co-op apartment</th>\n",
       "      <th>EDUCATION_Secondary / secondary special</th>\n",
       "      <th>EDUCATION_Higher education</th>\n",
       "      <th>EDUCATION_Incomplete higher</th>\n",
       "      <th>EDUCATION_Lower secondary</th>\n",
       "      <th>EDUCATION_Academic degree</th>\n",
       "    </tr>\n",
       "  </thead>\n",
       "  <tbody>\n",
       "    <tr>\n",
       "      <th>0</th>\n",
       "      <td>5008827</td>\n",
       "      <td>1</td>\n",
       "      <td>1</td>\n",
       "      <td>1</td>\n",
       "      <td>0</td>\n",
       "      <td>180000.000000</td>\n",
       "      <td>Pensioner</td>\n",
       "      <td>18772.0</td>\n",
       "      <td>365243</td>\n",
       "      <td>1</td>\n",
       "      <td>...</td>\n",
       "      <td>0.0</td>\n",
       "      <td>0.0</td>\n",
       "      <td>0.0</td>\n",
       "      <td>0.0</td>\n",
       "      <td>0.0</td>\n",
       "      <td>0.0</td>\n",
       "      <td>1.0</td>\n",
       "      <td>0.0</td>\n",
       "      <td>0.0</td>\n",
       "      <td>0.0</td>\n",
       "    </tr>\n",
       "    <tr>\n",
       "      <th>1</th>\n",
       "      <td>5009744</td>\n",
       "      <td>0</td>\n",
       "      <td>1</td>\n",
       "      <td>0</td>\n",
       "      <td>0</td>\n",
       "      <td>315000.000000</td>\n",
       "      <td>Commercial associate</td>\n",
       "      <td>13557.0</td>\n",
       "      <td>586</td>\n",
       "      <td>1</td>\n",
       "      <td>...</td>\n",
       "      <td>0.0</td>\n",
       "      <td>0.0</td>\n",
       "      <td>0.0</td>\n",
       "      <td>0.0</td>\n",
       "      <td>0.0</td>\n",
       "      <td>0.0</td>\n",
       "      <td>1.0</td>\n",
       "      <td>0.0</td>\n",
       "      <td>0.0</td>\n",
       "      <td>0.0</td>\n",
       "    </tr>\n",
       "    <tr>\n",
       "      <th>3</th>\n",
       "      <td>5009749</td>\n",
       "      <td>0</td>\n",
       "      <td>1</td>\n",
       "      <td>0</td>\n",
       "      <td>0</td>\n",
       "      <td>191386.541916</td>\n",
       "      <td>Commercial associate</td>\n",
       "      <td>13557.0</td>\n",
       "      <td>586</td>\n",
       "      <td>1</td>\n",
       "      <td>...</td>\n",
       "      <td>0.0</td>\n",
       "      <td>0.0</td>\n",
       "      <td>0.0</td>\n",
       "      <td>0.0</td>\n",
       "      <td>0.0</td>\n",
       "      <td>0.0</td>\n",
       "      <td>1.0</td>\n",
       "      <td>0.0</td>\n",
       "      <td>0.0</td>\n",
       "      <td>0.0</td>\n",
       "    </tr>\n",
       "    <tr>\n",
       "      <th>4</th>\n",
       "      <td>5009752</td>\n",
       "      <td>0</td>\n",
       "      <td>1</td>\n",
       "      <td>0</td>\n",
       "      <td>0</td>\n",
       "      <td>315000.000000</td>\n",
       "      <td>Commercial associate</td>\n",
       "      <td>13557.0</td>\n",
       "      <td>586</td>\n",
       "      <td>1</td>\n",
       "      <td>...</td>\n",
       "      <td>0.0</td>\n",
       "      <td>0.0</td>\n",
       "      <td>0.0</td>\n",
       "      <td>0.0</td>\n",
       "      <td>0.0</td>\n",
       "      <td>0.0</td>\n",
       "      <td>1.0</td>\n",
       "      <td>0.0</td>\n",
       "      <td>0.0</td>\n",
       "      <td>0.0</td>\n",
       "    </tr>\n",
       "    <tr>\n",
       "      <th>5</th>\n",
       "      <td>5009753</td>\n",
       "      <td>1</td>\n",
       "      <td>1</td>\n",
       "      <td>0</td>\n",
       "      <td>0</td>\n",
       "      <td>315000.000000</td>\n",
       "      <td>Pensioner</td>\n",
       "      <td>13557.0</td>\n",
       "      <td>586</td>\n",
       "      <td>1</td>\n",
       "      <td>...</td>\n",
       "      <td>0.0</td>\n",
       "      <td>0.0</td>\n",
       "      <td>0.0</td>\n",
       "      <td>0.0</td>\n",
       "      <td>0.0</td>\n",
       "      <td>0.0</td>\n",
       "      <td>1.0</td>\n",
       "      <td>0.0</td>\n",
       "      <td>0.0</td>\n",
       "      <td>0.0</td>\n",
       "    </tr>\n",
       "  </tbody>\n",
       "</table>\n",
       "<p>5 rows × 31 columns</p>\n",
       "</div>"
      ],
      "text/plain": [
       "    Ind_ID  GENDER  Car_Owner  Propert_Owner  CHILDREN  Annual_income  \\\n",
       "0  5008827       1          1              1         0  180000.000000   \n",
       "1  5009744       0          1              0         0  315000.000000   \n",
       "3  5009749       0          1              0         0  191386.541916   \n",
       "4  5009752       0          1              0         0  315000.000000   \n",
       "5  5009753       1          1              0         0  315000.000000   \n",
       "\n",
       "            Type_Income  Birthday_count  Employed_days  Mobile_phone  ...  \\\n",
       "0             Pensioner         18772.0         365243             1  ...   \n",
       "1  Commercial associate         13557.0            586             1  ...   \n",
       "3  Commercial associate         13557.0            586             1  ...   \n",
       "4  Commercial associate         13557.0            586             1  ...   \n",
       "5             Pensioner         13557.0            586             1  ...   \n",
       "\n",
       "   Housing_type_With parents  Housing_type_Municipal apartment  \\\n",
       "0                        0.0                               0.0   \n",
       "1                        0.0                               0.0   \n",
       "3                        0.0                               0.0   \n",
       "4                        0.0                               0.0   \n",
       "5                        0.0                               0.0   \n",
       "\n",
       "   Housing_type_Rented apartment  Housing_type_Office apartment  \\\n",
       "0                            0.0                            0.0   \n",
       "1                            0.0                            0.0   \n",
       "3                            0.0                            0.0   \n",
       "4                            0.0                            0.0   \n",
       "5                            0.0                            0.0   \n",
       "\n",
       "   Housing_type_Co-op apartment  EDUCATION_Secondary / secondary special  \\\n",
       "0                           0.0                                      0.0   \n",
       "1                           0.0                                      0.0   \n",
       "3                           0.0                                      0.0   \n",
       "4                           0.0                                      0.0   \n",
       "5                           0.0                                      0.0   \n",
       "\n",
       "   EDUCATION_Higher education  EDUCATION_Incomplete higher  \\\n",
       "0                         1.0                          0.0   \n",
       "1                         1.0                          0.0   \n",
       "3                         1.0                          0.0   \n",
       "4                         1.0                          0.0   \n",
       "5                         1.0                          0.0   \n",
       "\n",
       "   EDUCATION_Lower secondary  EDUCATION_Academic degree  \n",
       "0                        0.0                        0.0  \n",
       "1                        0.0                        0.0  \n",
       "3                        0.0                        0.0  \n",
       "4                        0.0                        0.0  \n",
       "5                        0.0                        0.0  \n",
       "\n",
       "[5 rows x 31 columns]"
      ]
     },
     "execution_count": 23,
     "metadata": {},
     "output_type": "execute_result"
    }
   ],
   "source": [
    "#one hot encode categories van de feature housing type\n",
    "\n",
    "from sklearn.preprocessing import OneHotEncoder\n",
    "import pandas as pd\n",
    "\n",
    "categories = [[\"Secondary / secondary special\", \"Higher education\", \"Incomplete higher\", \"Lower secondary\", \"Academic degree\"]]\n",
    "ohe = OneHotEncoder(categories=categories, sparse_output=False, handle_unknown='ignore')\n",
    "\n",
    "marital_ohe = ohe.fit_transform(df2[[\"EDUCATION\"]]) \n",
    "\n",
    "ohe_columns = ohe.get_feature_names_out([\"EDUCATION\"])\n",
    "\n",
    "marital_df = pd.DataFrame(marital_ohe, columns=ohe_columns, index=df2.index)\n",
    "\n",
    "df2 = pd.concat([df2.drop(columns=[\"EDUCATION\"]), marital_df], axis=1)\n",
    "\n",
    "df2.head()"
   ]
  },
  {
   "cell_type": "code",
   "execution_count": null,
   "id": "e069535d",
   "metadata": {},
   "outputs": [
    {
     "data": {
      "application/vnd.plotly.v1+json": {
       "config": {
        "plotlyServerURL": "https://plot.ly"
       },
       "data": [
        {
         "coloraxis": "coloraxis",
         "hovertemplate": "x: %{x}<br>y: %{y}<br>color: %{z}<extra></extra>",
         "name": "0",
         "texttemplate": "%{z}",
         "type": "heatmap",
         "x": [
          "Ind_ID",
          "GENDER",
          "Car_Owner",
          "Propert_Owner",
          "CHILDREN",
          "Annual_income",
          "Birthday_count",
          "Employed_days",
          "Mobile_phone",
          "Work_Phone",
          "Phone",
          "EMAIL_ID",
          "Family_Members",
          "label",
          "Marital_status_Married",
          "Marital_status_Single / not married",
          "Marital_status_Civil marriage",
          "Marital_status_Separated",
          "Marital_status_Widow",
          "Housing_type_House / apartment",
          "Housing_type_With parents",
          "Housing_type_Municipal apartment",
          "Housing_type_Rented apartment",
          "Housing_type_Office apartment",
          "Housing_type_Co-op apartment",
          "EDUCATION_Secondary / secondary special",
          "EDUCATION_Higher education",
          "EDUCATION_Incomplete higher",
          "EDUCATION_Lower secondary",
          "EDUCATION_Academic degree"
         ],
         "xaxis": "x",
         "y": [
          "Ind_ID",
          "GENDER",
          "Car_Owner",
          "Propert_Owner",
          "CHILDREN",
          "Annual_income",
          "Birthday_count",
          "Employed_days",
          "Mobile_phone",
          "Work_Phone",
          "Phone",
          "EMAIL_ID",
          "Family_Members",
          "label",
          "Marital_status_Married",
          "Marital_status_Single / not married",
          "Marital_status_Civil marriage",
          "Marital_status_Separated",
          "Marital_status_Widow",
          "Housing_type_House / apartment",
          "Housing_type_With parents",
          "Housing_type_Municipal apartment",
          "Housing_type_Rented apartment",
          "Housing_type_Office apartment",
          "Housing_type_Co-op apartment",
          "EDUCATION_Secondary / secondary special",
          "EDUCATION_Higher education",
          "EDUCATION_Incomplete higher",
          "EDUCATION_Lower secondary",
          "EDUCATION_Academic degree"
         ],
         "yaxis": "y",
         "z": {
          "bdata": "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",
          "dtype": "f8",
          "shape": "30, 30"
         }
        }
       ],
       "layout": {
        "coloraxis": {
         "colorscale": [
          [
           0,
           "rgb(5,48,97)"
          ],
          [
           0.1,
           "rgb(33,102,172)"
          ],
          [
           0.2,
           "rgb(67,147,195)"
          ],
          [
           0.3,
           "rgb(146,197,222)"
          ],
          [
           0.4,
           "rgb(209,229,240)"
          ],
          [
           0.5,
           "rgb(247,247,247)"
          ],
          [
           0.6,
           "rgb(253,219,199)"
          ],
          [
           0.7,
           "rgb(244,165,130)"
          ],
          [
           0.8,
           "rgb(214,96,77)"
          ],
          [
           0.9,
           "rgb(178,24,43)"
          ],
          [
           1,
           "rgb(103,0,31)"
          ]
         ]
        },
        "margin": {
         "b": 40,
         "l": 40,
         "r": 40,
         "t": 60
        },
        "template": {
         "data": {
          "bar": [
           {
            "error_x": {
             "color": "#2a3f5f"
            },
            "error_y": {
             "color": "#2a3f5f"
            },
            "marker": {
             "line": {
              "color": "#E5ECF6",
              "width": 0.5
             },
             "pattern": {
              "fillmode": "overlay",
              "size": 10,
              "solidity": 0.2
             }
            },
            "type": "bar"
           }
          ],
          "barpolar": [
           {
            "marker": {
             "line": {
              "color": "#E5ECF6",
              "width": 0.5
             },
             "pattern": {
              "fillmode": "overlay",
              "size": 10,
              "solidity": 0.2
             }
            },
            "type": "barpolar"
           }
          ],
          "carpet": [
           {
            "aaxis": {
             "endlinecolor": "#2a3f5f",
             "gridcolor": "white",
             "linecolor": "white",
             "minorgridcolor": "white",
             "startlinecolor": "#2a3f5f"
            },
            "baxis": {
             "endlinecolor": "#2a3f5f",
             "gridcolor": "white",
             "linecolor": "white",
             "minorgridcolor": "white",
             "startlinecolor": "#2a3f5f"
            },
            "type": "carpet"
           }
          ],
          "choropleth": [
           {
            "colorbar": {
             "outlinewidth": 0,
             "ticks": ""
            },
            "type": "choropleth"
           }
          ],
          "contour": [
           {
            "colorbar": {
             "outlinewidth": 0,
             "ticks": ""
            },
            "colorscale": [
             [
              0,
              "#0d0887"
             ],
             [
              0.1111111111111111,
              "#46039f"
             ],
             [
              0.2222222222222222,
              "#7201a8"
             ],
             [
              0.3333333333333333,
              "#9c179e"
             ],
             [
              0.4444444444444444,
              "#bd3786"
             ],
             [
              0.5555555555555556,
              "#d8576b"
             ],
             [
              0.6666666666666666,
              "#ed7953"
             ],
             [
              0.7777777777777778,
              "#fb9f3a"
             ],
             [
              0.8888888888888888,
              "#fdca26"
             ],
             [
              1,
              "#f0f921"
             ]
            ],
            "type": "contour"
           }
          ],
          "contourcarpet": [
           {
            "colorbar": {
             "outlinewidth": 0,
             "ticks": ""
            },
            "type": "contourcarpet"
           }
          ],
          "heatmap": [
           {
            "colorbar": {
             "outlinewidth": 0,
             "ticks": ""
            },
            "colorscale": [
             [
              0,
              "#0d0887"
             ],
             [
              0.1111111111111111,
              "#46039f"
             ],
             [
              0.2222222222222222,
              "#7201a8"
             ],
             [
              0.3333333333333333,
              "#9c179e"
             ],
             [
              0.4444444444444444,
              "#bd3786"
             ],
             [
              0.5555555555555556,
              "#d8576b"
             ],
             [
              0.6666666666666666,
              "#ed7953"
             ],
             [
              0.7777777777777778,
              "#fb9f3a"
             ],
             [
              0.8888888888888888,
              "#fdca26"
             ],
             [
              1,
              "#f0f921"
             ]
            ],
            "type": "heatmap"
           }
          ],
          "histogram": [
           {
            "marker": {
             "pattern": {
              "fillmode": "overlay",
              "size": 10,
              "solidity": 0.2
             }
            },
            "type": "histogram"
           }
          ],
          "histogram2d": [
           {
            "colorbar": {
             "outlinewidth": 0,
             "ticks": ""
            },
            "colorscale": [
             [
              0,
              "#0d0887"
             ],
             [
              0.1111111111111111,
              "#46039f"
             ],
             [
              0.2222222222222222,
              "#7201a8"
             ],
             [
              0.3333333333333333,
              "#9c179e"
             ],
             [
              0.4444444444444444,
              "#bd3786"
             ],
             [
              0.5555555555555556,
              "#d8576b"
             ],
             [
              0.6666666666666666,
              "#ed7953"
             ],
             [
              0.7777777777777778,
              "#fb9f3a"
             ],
             [
              0.8888888888888888,
              "#fdca26"
             ],
             [
              1,
              "#f0f921"
             ]
            ],
            "type": "histogram2d"
           }
          ],
          "histogram2dcontour": [
           {
            "colorbar": {
             "outlinewidth": 0,
             "ticks": ""
            },
            "colorscale": [
             [
              0,
              "#0d0887"
             ],
             [
              0.1111111111111111,
              "#46039f"
             ],
             [
              0.2222222222222222,
              "#7201a8"
             ],
             [
              0.3333333333333333,
              "#9c179e"
             ],
             [
              0.4444444444444444,
              "#bd3786"
             ],
             [
              0.5555555555555556,
              "#d8576b"
             ],
             [
              0.6666666666666666,
              "#ed7953"
             ],
             [
              0.7777777777777778,
              "#fb9f3a"
             ],
             [
              0.8888888888888888,
              "#fdca26"
             ],
             [
              1,
              "#f0f921"
             ]
            ],
            "type": "histogram2dcontour"
           }
          ],
          "mesh3d": [
           {
            "colorbar": {
             "outlinewidth": 0,
             "ticks": ""
            },
            "type": "mesh3d"
           }
          ],
          "parcoords": [
           {
            "line": {
             "colorbar": {
              "outlinewidth": 0,
              "ticks": ""
             }
            },
            "type": "parcoords"
           }
          ],
          "pie": [
           {
            "automargin": true,
            "type": "pie"
           }
          ],
          "scatter": [
           {
            "fillpattern": {
             "fillmode": "overlay",
             "size": 10,
             "solidity": 0.2
            },
            "type": "scatter"
           }
          ],
          "scatter3d": [
           {
            "line": {
             "colorbar": {
              "outlinewidth": 0,
              "ticks": ""
             }
            },
            "marker": {
             "colorbar": {
              "outlinewidth": 0,
              "ticks": ""
             }
            },
            "type": "scatter3d"
           }
          ],
          "scattercarpet": [
           {
            "marker": {
             "colorbar": {
              "outlinewidth": 0,
              "ticks": ""
             }
            },
            "type": "scattercarpet"
           }
          ],
          "scattergeo": [
           {
            "marker": {
             "colorbar": {
              "outlinewidth": 0,
              "ticks": ""
             }
            },
            "type": "scattergeo"
           }
          ],
          "scattergl": [
           {
            "marker": {
             "colorbar": {
              "outlinewidth": 0,
              "ticks": ""
             }
            },
            "type": "scattergl"
           }
          ],
          "scattermap": [
           {
            "marker": {
             "colorbar": {
              "outlinewidth": 0,
              "ticks": ""
             }
            },
            "type": "scattermap"
           }
          ],
          "scattermapbox": [
           {
            "marker": {
             "colorbar": {
              "outlinewidth": 0,
              "ticks": ""
             }
            },
            "type": "scattermapbox"
           }
          ],
          "scatterpolar": [
           {
            "marker": {
             "colorbar": {
              "outlinewidth": 0,
              "ticks": ""
             }
            },
            "type": "scatterpolar"
           }
          ],
          "scatterpolargl": [
           {
            "marker": {
             "colorbar": {
              "outlinewidth": 0,
              "ticks": ""
             }
            },
            "type": "scatterpolargl"
           }
          ],
          "scatterternary": [
           {
            "marker": {
             "colorbar": {
              "outlinewidth": 0,
              "ticks": ""
             }
            },
            "type": "scatterternary"
           }
          ],
          "surface": [
           {
            "colorbar": {
             "outlinewidth": 0,
             "ticks": ""
            },
            "colorscale": [
             [
              0,
              "#0d0887"
             ],
             [
              0.1111111111111111,
              "#46039f"
             ],
             [
              0.2222222222222222,
              "#7201a8"
             ],
             [
              0.3333333333333333,
              "#9c179e"
             ],
             [
              0.4444444444444444,
              "#bd3786"
             ],
             [
              0.5555555555555556,
              "#d8576b"
             ],
             [
              0.6666666666666666,
              "#ed7953"
             ],
             [
              0.7777777777777778,
              "#fb9f3a"
             ],
             [
              0.8888888888888888,
              "#fdca26"
             ],
             [
              1,
              "#f0f921"
             ]
            ],
            "type": "surface"
           }
          ],
          "table": [
           {
            "cells": {
             "fill": {
              "color": "#EBF0F8"
             },
             "line": {
              "color": "white"
             }
            },
            "header": {
             "fill": {
              "color": "#C8D4E3"
             },
             "line": {
              "color": "white"
             }
            },
            "type": "table"
           }
          ]
         },
         "layout": {
          "annotationdefaults": {
           "arrowcolor": "#2a3f5f",
           "arrowhead": 0,
           "arrowwidth": 1
          },
          "autotypenumbers": "strict",
          "coloraxis": {
           "colorbar": {
            "outlinewidth": 0,
            "ticks": ""
           }
          },
          "colorscale": {
           "diverging": [
            [
             0,
             "#8e0152"
            ],
            [
             0.1,
             "#c51b7d"
            ],
            [
             0.2,
             "#de77ae"
            ],
            [
             0.3,
             "#f1b6da"
            ],
            [
             0.4,
             "#fde0ef"
            ],
            [
             0.5,
             "#f7f7f7"
            ],
            [
             0.6,
             "#e6f5d0"
            ],
            [
             0.7,
             "#b8e186"
            ],
            [
             0.8,
             "#7fbc41"
            ],
            [
             0.9,
             "#4d9221"
            ],
            [
             1,
             "#276419"
            ]
           ],
           "sequential": [
            [
             0,
             "#0d0887"
            ],
            [
             0.1111111111111111,
             "#46039f"
            ],
            [
             0.2222222222222222,
             "#7201a8"
            ],
            [
             0.3333333333333333,
             "#9c179e"
            ],
            [
             0.4444444444444444,
             "#bd3786"
            ],
            [
             0.5555555555555556,
             "#d8576b"
            ],
            [
             0.6666666666666666,
             "#ed7953"
            ],
            [
             0.7777777777777778,
             "#fb9f3a"
            ],
            [
             0.8888888888888888,
             "#fdca26"
            ],
            [
             1,
             "#f0f921"
            ]
           ],
           "sequentialminus": [
            [
             0,
             "#0d0887"
            ],
            [
             0.1111111111111111,
             "#46039f"
            ],
            [
             0.2222222222222222,
             "#7201a8"
            ],
            [
             0.3333333333333333,
             "#9c179e"
            ],
            [
             0.4444444444444444,
             "#bd3786"
            ],
            [
             0.5555555555555556,
             "#d8576b"
            ],
            [
             0.6666666666666666,
             "#ed7953"
            ],
            [
             0.7777777777777778,
             "#fb9f3a"
            ],
            [
             0.8888888888888888,
             "#fdca26"
            ],
            [
             1,
             "#f0f921"
            ]
           ]
          },
          "colorway": [
           "#636efa",
           "#EF553B",
           "#00cc96",
           "#ab63fa",
           "#FFA15A",
           "#19d3f3",
           "#FF6692",
           "#B6E880",
           "#FF97FF",
           "#FECB52"
          ],
          "font": {
           "color": "#2a3f5f"
          },
          "geo": {
           "bgcolor": "white",
           "lakecolor": "white",
           "landcolor": "#E5ECF6",
           "showlakes": true,
           "showland": true,
           "subunitcolor": "white"
          },
          "hoverlabel": {
           "align": "left"
          },
          "hovermode": "closest",
          "mapbox": {
           "style": "light"
          },
          "paper_bgcolor": "white",
          "plot_bgcolor": "#E5ECF6",
          "polar": {
           "angularaxis": {
            "gridcolor": "white",
            "linecolor": "white",
            "ticks": ""
           },
           "bgcolor": "#E5ECF6",
           "radialaxis": {
            "gridcolor": "white",
            "linecolor": "white",
            "ticks": ""
           }
          },
          "scene": {
           "xaxis": {
            "backgroundcolor": "#E5ECF6",
            "gridcolor": "white",
            "gridwidth": 2,
            "linecolor": "white",
            "showbackground": true,
            "ticks": "",
            "zerolinecolor": "white"
           },
           "yaxis": {
            "backgroundcolor": "#E5ECF6",
            "gridcolor": "white",
            "gridwidth": 2,
            "linecolor": "white",
            "showbackground": true,
            "ticks": "",
            "zerolinecolor": "white"
           },
           "zaxis": {
            "backgroundcolor": "#E5ECF6",
            "gridcolor": "white",
            "gridwidth": 2,
            "linecolor": "white",
            "showbackground": true,
            "ticks": "",
            "zerolinecolor": "white"
           }
          },
          "shapedefaults": {
           "line": {
            "color": "#2a3f5f"
           }
          },
          "ternary": {
           "aaxis": {
            "gridcolor": "white",
            "linecolor": "white",
            "ticks": ""
           },
           "baxis": {
            "gridcolor": "white",
            "linecolor": "white",
            "ticks": ""
           },
           "bgcolor": "#E5ECF6",
           "caxis": {
            "gridcolor": "white",
            "linecolor": "white",
            "ticks": ""
           }
          },
          "title": {
           "x": 0.05
          },
          "xaxis": {
           "automargin": true,
           "gridcolor": "white",
           "linecolor": "white",
           "ticks": "",
           "title": {
            "standoff": 15
           },
           "zerolinecolor": "white",
           "zerolinewidth": 2
          },
          "yaxis": {
           "automargin": true,
           "gridcolor": "white",
           "linecolor": "white",
           "ticks": "",
           "title": {
            "standoff": 15
           },
           "zerolinecolor": "white",
           "zerolinewidth": 2
          }
         }
        },
        "title": {
         "text": "Correlation Heatmap (df2)"
        },
        "xaxis": {
         "anchor": "y",
         "domain": [
          0,
          1
         ],
         "title": {
          "text": "Variables"
         }
        },
        "yaxis": {
         "anchor": "x",
         "autorange": "reversed",
         "domain": [
          0,
          1
         ],
         "title": {
          "text": "Variables"
         }
        }
       }
      }
     },
     "metadata": {},
     "output_type": "display_data"
    }
   ],
   "source": [
    "import plotly.express as px\n",
    "import pandas as pd\n",
    "\n",
    "corr_matrix = df2.corr(numeric_only=True)\n",
    "\n",
    "corr_df = corr_matrix.reset_index().melt(id_vars='index')\n",
    "\n",
    "corr_df.columns = ['Variable1', 'Variable2', 'Correlation']\n",
    "\n",
    "fig = px.imshow(\n",
    "    corr_matrix,\n",
    "    text_auto=True,\n",
    "    color_continuous_scale='RdBu_r',\n",
    "    aspect=\"auto\",\n",
    "    title=\"Correlation Heatmap (df2)\"\n",
    ")\n",
    "\n",
    "fig.update_layout(\n",
    "    xaxis_title=\"Variables\",\n",
    "    yaxis_title=\"Variables\",\n",
    "    margin=dict(l=40, r=40, t=60, b=40)\n",
    ")\n",
    "\n",
    "fig.show()\n"
   ]
  },
  {
   "cell_type": "code",
   "execution_count": null,
   "id": "62c5800f",
   "metadata": {},
   "outputs": [
    {
     "name": "stdout",
     "output_type": "stream",
     "text": [
      "Test Accuracy: 0.9020\n"
     ]
    }
   ],
   "source": [
    "#split and scale data\n",
    "\n",
    "from sklearn.model_selection import train_test_split\n",
    "from sklearn.preprocessing import StandardScaler\n",
    "from sklearn.linear_model import LogisticRegression\n",
    "from sklearn.metrics import accuracy_score\n",
    "\n",
    "y = df2[\"label\"]\n",
    "\n",
    "X = df2.drop(columns=[\"label\", \"Type_Income\", \"Ind_ID\"])\n",
    "\n",
    "\n",
    "X_train, X_test, y_train, y_test = train_test_split(X, y, test_size=0.2, random_state=42)\n",
    "\n",
    "scaler = StandardScaler()\n",
    "\n",
    "X_train_scaled = scaler.fit_transform(X_train)\n",
    "X_test_scaled = scaler.transform(X_test)\n",
    "\n",
    "# logistische regressie model\n",
    "lr = LogisticRegression()\n",
    "\n",
    "lr.fit(X_train_scaled, y_train)\n",
    "\n",
    "\n",
    "y_pred = lr.predict(X_test_scaled)\n",
    "\n",
    "# accuracy checken\n",
    "accuracy = accuracy_score(y_test, y_pred)\n",
    "print(f\"Test Accuracy: {accuracy:.4f}\")\n"
   ]
  },
  {
   "cell_type": "code",
   "execution_count": null,
   "id": "5cd26389",
   "metadata": {},
   "outputs": [],
   "source": [
    "from sklearn.linear_model import LogisticRegression\n",
    "\n",
    "lr = LogisticRegression(\n",
    "    penalty='l2',\n",
    "    C=0.5,\n",
    "    solver='liblinear',\n",
    "    max_iter=200,\n",
    "    class_weight='balanced'\n",
    ")\n"
   ]
  },
  {
   "cell_type": "code",
   "execution_count": null,
   "id": "55c39681",
   "metadata": {},
   "outputs": [
    {
     "name": "stdout",
     "output_type": "stream",
     "text": [
      "Test Accuracy: 0.9444\n"
     ]
    }
   ],
   "source": [
    "# random forrest classifier\n",
    "Rfc = RandomForestClassifier()\n",
    "\n",
    "Rfc.fit(X_train_scaled, y_train)\n",
    "\n",
    "\n",
    "y_pred = Rfc.predict(X_test_scaled)\n",
    "\n",
    "# accuracy checken\n",
    "accuracy = accuracy_score(y_test, y_pred)\n",
    "print(f\"Test Accuracy: {accuracy:.4f}\")"
   ]
  },
  {
   "cell_type": "code",
   "execution_count": 43,
   "id": "cd10b003",
   "metadata": {},
   "outputs": [
    {
     "name": "stderr",
     "output_type": "stream",
     "text": [
      "c:\\Users\\Zaidz\\miniconda3\\Lib\\site-packages\\sklearn\\model_selection\\_validation.py:528: FitFailedWarning:\n",
      "\n",
      "\n",
      "105 fits failed out of a total of 525.\n",
      "The score on these train-test partitions for these parameters will be set to nan.\n",
      "If these failures are not expected, you can try to debug them by setting error_score='raise'.\n",
      "\n",
      "Below are more details about the failures:\n",
      "--------------------------------------------------------------------------------\n",
      "105 fits failed with the following error:\n",
      "Traceback (most recent call last):\n",
      "  File \"c:\\Users\\Zaidz\\miniconda3\\Lib\\site-packages\\sklearn\\model_selection\\_validation.py\", line 866, in _fit_and_score\n",
      "    estimator.fit(X_train, y_train, **fit_params)\n",
      "  File \"c:\\Users\\Zaidz\\miniconda3\\Lib\\site-packages\\sklearn\\base.py\", line 1382, in wrapper\n",
      "    estimator._validate_params()\n",
      "  File \"c:\\Users\\Zaidz\\miniconda3\\Lib\\site-packages\\sklearn\\base.py\", line 436, in _validate_params\n",
      "    validate_parameter_constraints(\n",
      "  File \"c:\\Users\\Zaidz\\miniconda3\\Lib\\site-packages\\sklearn\\utils\\_param_validation.py\", line 98, in validate_parameter_constraints\n",
      "    raise InvalidParameterError(\n",
      "sklearn.utils._param_validation.InvalidParameterError: The 'min_samples_split' parameter of RandomForestClassifier must be an int in the range [2, inf) or a float in the range (0.0, 1.0]. Got 1 instead.\n",
      "\n",
      "\n",
      "c:\\Users\\Zaidz\\miniconda3\\Lib\\site-packages\\sklearn\\model_selection\\_search.py:1108: UserWarning:\n",
      "\n",
      "One or more of the test scores are non-finite: [0.88114805 0.88114805 0.88114805 0.88114805 0.88032905 0.88114805\n",
      " 0.88114805 0.88114805 0.88114805 0.88114805        nan        nan\n",
      "        nan        nan        nan 0.88032905 0.88115007 0.88115007\n",
      " 0.88115007 0.88115007 0.87951005 0.88032905 0.88032905 0.88032905\n",
      " 0.88032905 0.88115007 0.88115007 0.88115007 0.88196907 0.88196907\n",
      " 0.88114805 0.88114805 0.88114805 0.88114805 0.88114805        nan\n",
      "        nan        nan        nan        nan 0.8926302  0.89262617\n",
      " 0.89262819 0.89262617 0.89098817 0.88279412 0.88443213 0.88525113\n",
      " 0.88443213 0.88607013 0.88443011 0.88606811 0.88607013 0.88524911\n",
      " 0.88443011 0.88114805 0.88114805 0.88114805 0.88114805 0.88114805\n",
      "        nan        nan        nan        nan        nan 0.90820332\n",
      " 0.90984334 0.90902434 0.90902434 0.90902434 0.89672924 0.89918624\n",
      " 0.90082425 0.90082425 0.89918624 0.88525113 0.88771015 0.88525113\n",
      " 0.88688913 0.88689115 0.88114805 0.88114805 0.88114805 0.88114805\n",
      " 0.88114805        nan        nan        nan        nan        nan\n",
      " 0.90574632 0.90984334 0.90902434 0.90902434 0.90902434 0.89509124\n",
      " 0.89918624 0.90082425 0.90082425 0.89918624 0.88525113 0.88771015\n",
      " 0.88525113 0.88688913 0.88689115 0.88114805 0.88114805 0.88114805\n",
      " 0.88114805 0.88114805        nan        nan        nan        nan\n",
      "        nan 0.90574632 0.90984334 0.90902434 0.90902434 0.90902434\n",
      " 0.89509124 0.89918624 0.90082425 0.90082425 0.89918624 0.88525113\n",
      " 0.88771015 0.88525113 0.88688913 0.88689115 0.88114805 0.88114805\n",
      " 0.88114805 0.88114805 0.88114805        nan        nan        nan\n",
      "        nan        nan 0.90574632 0.90984334 0.90902434 0.90902434\n",
      " 0.90902434 0.89509124 0.89918624 0.90082425 0.90082425 0.89918624\n",
      " 0.88525113 0.88771015 0.88525113 0.88688913 0.88689115 0.88114805\n",
      " 0.88114805 0.88114805 0.88114805 0.88114805        nan        nan\n",
      "        nan        nan        nan 0.90574632 0.90984334 0.90902434\n",
      " 0.90902434 0.90902434 0.89509124 0.89918624 0.90082425 0.90082425\n",
      " 0.89918624]\n",
      "\n"
     ]
    },
    {
     "name": "stdout",
     "output_type": "stream",
     "text": [
      "Best RF params: {'max_depth': 20, 'min_samples_split': 2, 'n_estimators': 300}\n"
     ]
    }
   ],
   "source": [
    "# 5. Hyperparameter Tuning voor random forrest\n",
    "param_grid = {\n",
    "    'n_estimators': [100, 300, 500, 600, 700],\n",
    "    'max_depth': [6, 10, 20, 30, 50, 60, 80],\n",
    "    'min_samples_split': [0.01, 0.1, 1, 2, 5],\n",
    "}\n",
    "grid = GridSearchCV(RandomForestClassifier(random_state=42), param_grid, cv=3)\n",
    "grid.fit(X_train, y_train)\n",
    "print(\"Best RF params:\", grid.best_params_)"
   ]
  },
  {
   "cell_type": "code",
   "execution_count": null,
   "id": "be5f158f",
   "metadata": {},
   "outputs": [
    {
     "name": "stdout",
     "output_type": "stream",
     "text": [
      "Test Accuracy: 0.9085\n"
     ]
    }
   ],
   "source": [
    "#gradient boosting model\n",
    "\n",
    "from xgboost import XGBClassifier\n",
    "bst = XGBClassifier(n_estimators=2, max_depth=2, learning_rate=1, objective='binary:logistic')\n",
    "bst.fit(X_train_scaled, y_train)\n",
    "y_pred = bst.predict(X_test)\\\n",
    "\n",
    "# accuracy checken\n",
    "accuracy = accuracy_score(y_test, y_pred)\n",
    "print(f\"Test Accuracy: {accuracy:.4f}\")"
   ]
  },
  {
   "cell_type": "code",
   "execution_count": null,
   "id": "12ecbb76",
   "metadata": {},
   "outputs": [],
   "source": [
    "from sklearn.ensemble import RandomForestClassifier\n",
    "from sklearn.model_selection import GridSearchCV\n",
    "\n",
    "rfc = RandomForestClassifier(random_state=42)\n",
    "\n",
    "param_grid = {\n",
    "    'n_estimators': [300],\n",
    "    'max_depth': [20],\n",
    "    'min_samples_split': [2],\n",
    "}\n",
    "\n",
    "#grid search\n",
    "grid = GridSearchCV(estimator=rfc, param_grid=param_grid, cv=3, n_jobs=-1)\n",
    "\n",
    "grid.fit(X_train, y_train)\n",
    "\n",
    "best_rfc = grid.best_estimator_"
   ]
  },
  {
   "cell_type": "code",
   "execution_count": null,
   "id": "661ff44b",
   "metadata": {},
   "outputs": [
    {
     "name": "stdout",
     "output_type": "stream",
     "text": [
      "Stacking Classifier Report:\n",
      "              precision    recall  f1-score   support\n",
      "\n",
      "           0       0.94      1.00      0.97       278\n",
      "           1       0.92      0.39      0.55        28\n",
      "\n",
      "    accuracy                           0.94       306\n",
      "   macro avg       0.93      0.69      0.76       306\n",
      "weighted avg       0.94      0.94      0.93       306\n",
      "\n"
     ]
    }
   ],
   "source": [
    "# modelen met elkaar stacken\n",
    "from sklearn.ensemble import StackingClassifier\n",
    "from sklearn.metrics import classification_report\n",
    "\n",
    "stack = StackingClassifier(\n",
    "    estimators=[\n",
    "        ('lr', lr),\n",
    "        ('Rfc', best_rfc),\n",
    "        ('xgb', bst)\n",
    "    ],\n",
    "    final_estimator=LogisticRegression()\n",
    ")\n",
    "stack.fit(X_train, y_train)\n",
    "y_pred_stack = stack.predict(X_test)\n",
    "print(\"Stacking Classifier Report:\")\n",
    "print(classification_report(y_test, y_pred_stack))\n"
   ]
  },
  {
   "cell_type": "code",
   "execution_count": null,
   "id": "099c07a3",
   "metadata": {},
   "outputs": [
    {
     "name": "stdout",
     "output_type": "stream",
     "text": [
      "Cross-validation accuracy scores: [0.59836066 0.54098361 0.54918033 0.58606557 0.51229508]\n",
      "Mean accuracy: 0.5574\n",
      "Std accuracy: 0.0312\n"
     ]
    }
   ],
   "source": [
    "#check of het model niet overfit is\n",
    "\n",
    "from sklearn.model_selection import StratifiedKFold, cross_val_score\n",
    "from sklearn.ensemble import StackingClassifier\n",
    "from sklearn.linear_model import LogisticRegression\n",
    "from sklearn.metrics import make_scorer, accuracy_score\n",
    "\n",
    "# stratifiedkfold opstellen\n",
    "skf = StratifiedKFold(n_splits=5, shuffle=True, random_state=42)\n",
    "\n",
    "scoring = 'accuracy'\n",
    "\n",
    "#cross-validation runnen\n",
    "cv_scores = cross_val_score(best_rfc, X_train, y_train, cv=skf, scoring=scoring, n_jobs=-1)\n",
    "\n",
    "print(f\"Cross-validation {scoring} scores: {cv_scores}\")\n",
    "print(f\"Mean {scoring}: {cv_scores.mean():.4f}\")\n",
    "print(f\"Std {scoring}: {cv_scores.std():.4f}\")\n"
   ]
  }
 ],
 "metadata": {
  "kernelspec": {
   "display_name": "base",
   "language": "python",
   "name": "python3"
  },
  "language_info": {
   "codemirror_mode": {
    "name": "ipython",
    "version": 3
   },
   "file_extension": ".py",
   "mimetype": "text/x-python",
   "name": "python",
   "nbconvert_exporter": "python",
   "pygments_lexer": "ipython3",
   "version": "3.12.4"
  }
 },
 "nbformat": 4,
 "nbformat_minor": 5
}
